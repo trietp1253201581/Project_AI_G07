{
 "cells": [
  {
   "cell_type": "markdown",
   "metadata": {},
   "source": [
    "# Báo cáo Project\n",
    "Lớp TTNT-154016, Nhóm G07"
   ]
  },
  {
   "cell_type": "markdown",
   "metadata": {},
   "source": [
    "## 1. Thông tin chung"
   ]
  },
  {
   "cell_type": "markdown",
   "metadata": {},
   "source": [
    "### Thành viên\n",
    "- Đỗ Huy Đạt 20220024\n",
    "- Đoàn Nguyễn Hải Nam 20220035\n",
    "- Lê Minh Triết 20220045\n",
    "- Đàm Hồng Thái 20183625"
   ]
  },
  {
   "cell_type": "markdown",
   "metadata": {},
   "source": [
    "## 2. Đề xuất project (W2-3)"
   ]
  },
  {
   "cell_type": "markdown",
   "metadata": {},
   "source": [
    "### Bài toán\n",
    "Phân loại Email Spam"
   ]
  },
  {
   "cell_type": "markdown",
   "metadata": {},
   "source": [
    "### Phương pháp\n",
    "Sử dụng Decision Tree"
   ]
  },
  {
   "cell_type": "markdown",
   "metadata": {},
   "source": [
    "### Phân công\n",
    "- ĐH Đạt: Xây dựng Decision Tree, đánh giá kết quả\n",
    "- ĐNH Nam: Chuyển đổi dữ liệu thành vector, xây dựng Decision Tree\n",
    "- LM Triết: Xây dựng Decision Tree, đánh giá kết quả\n",
    "- ĐH Thái: Làm sạch, phân tích dữ liệu"
   ]
  },
  {
   "cell_type": "markdown",
   "metadata": {},
   "source": [
    "## 3. Tiến độ giữa kỳ (W9)"
   ]
  },
  {
   "cell_type": "markdown",
   "metadata": {},
   "source": [
    "### Chương trình\n",
    "Trước hết, nhóm xây dựng một Decision Tree đơn giản dựa trên chỉ số Gini để tạo cây.\n",
    "Mã nguồn lưu trong [g7_decision_tree.py](g7_decision_tree.py).\n",
    "\n",
    "Mã nguồn cũng được triển khai trong cell dưới đây"
   ]
  },
  {
   "cell_type": "code",
   "execution_count": 1,
   "metadata": {},
   "outputs": [],
   "source": [
    "import numpy as np\n",
    "\n",
    "# Class đại diện cho một nút trong cây quyết định\n",
    "class TreeNode:\n",
    "    def __init__(self, feature=None, threshold=None, left=None, right=None, value=None):\n",
    "        self.feature = feature      # Đặc trưng sử dụng để chia dữ liệu\n",
    "        self.threshold = threshold  # Ngưỡng sử dụng để chia dữ liệu\n",
    "        self.left = left            # Con trỏ tới nút con bên trái\n",
    "        self.right = right          # Con trỏ tới nút con bên phải\n",
    "        self.value = value          # Giá trị của nút nếu là nút lá\n",
    "\n",
    "# Hàm tính chỉ số Gini để đo độ thuần nhất của nút\n",
    "def gini(y):\n",
    "    _, counts = np.unique(y, return_counts=True)  # Tìm các lớp và số lượng phần tử trong mỗi lớp\n",
    "    gini = 1.0 - sum((count / len(y)) ** 2 for count in counts)  # Tính chỉ số Gini\n",
    "    return gini\n",
    "\n",
    "class G07DecisionTree():\n",
    "    def __init__(self, max_depth=10):\n",
    "        self.max_depth = max_depth\n",
    "        self.tree = TreeNode()\n",
    "\n",
    "    # Hàm fit tree với datasets\n",
    "    def fit(self, X, y):\n",
    "        self.tree = self.build_tree_(X, y, depth=0, max_depth=self.max_depth)\n",
    "    \n",
    "    # Hàm dự đoán một tập dữ liệu\n",
    "    def predict(self, X):\n",
    "        return np.array([self.predict_tree_(self.tree, x) for x in X])\n",
    "    \n",
    "    # Hàm chia dữ liệu theo đặc trưng và ngưỡng\n",
    "    def split_(self, X, y, feature, threshold):\n",
    "        left_mask = X[:, feature] <= threshold  # Mặt nạ để lấy các phần tử nhỏ hơn hoặc bằng ngưỡng\n",
    "        right_mask = X[:, feature] > threshold  # Mặt nạ để lấy các phần tử lớn hơn ngưỡng\n",
    "        return X[left_mask], X[right_mask], y[left_mask], y[right_mask]\n",
    "\n",
    "    # Hàm tìm đặc trưng và ngưỡng tốt nhất để chia dữ liệu\n",
    "    def best_split_(self, X, y):\n",
    "        best_gini = 1.0\n",
    "        best_feature = None\n",
    "        best_threshold = None\n",
    "        for feature in range(X.shape[1]):  # Duyệt qua từng đặc trưng\n",
    "            thresholds = np.unique(X[:, feature])  # Tìm tất cả các ngưỡng duy nhất\n",
    "            for threshold in thresholds:  # Duyệt qua từng ngưỡng\n",
    "                X_left, X_right, y_left, y_right = self.split_(X, y, feature, threshold)  # Chia dữ liệu\n",
    "                if len(y_left) == 0 or len(y_right) == 0:  # Nếu một trong hai phần trống, bỏ qua\n",
    "                    continue\n",
    "                gini_left = gini(y_left)  # Tính chỉ số Gini cho phần bên trái\n",
    "                gini_right = gini(y_right)  # Tính chỉ số Gini cho phần bên phải\n",
    "                gini_split = (len(y_left) * gini_left + len(y_right) * gini_right) / len(y)  # Tính chỉ số Gini trung bình\n",
    "                if gini_split < best_gini:  # Nếu Gini nhỏ hơn, cập nhật đặc trưng và ngưỡng tốt nhất\n",
    "                    best_gini = gini_split\n",
    "                    best_feature = feature\n",
    "                    best_threshold = threshold\n",
    "        return best_feature, best_threshold\n",
    "    \n",
    "    # Hàm xây dựng cây quyết định đệ quy\n",
    "    def build_tree_(self, X, y, depth=0, max_depth=10):\n",
    "        if len(np.unique(y)) == 1:  # Nếu tất cả các phần tử cùng một lớp, trả về nút lá\n",
    "            return TreeNode(value=y[0])\n",
    "        if depth >= max_depth:  # Nếu độ sâu đạt giới hạn, trả về nút lá\n",
    "            return TreeNode(value=np.bincount(y).argmax())  # Trả về lớp phổ biến nhất\n",
    "        feature, threshold = self.best_split_(X, y)  # Tìm đặc trưng và ngưỡng tốt nhất\n",
    "        if feature is None:  # Nếu không tìm được đặc trưng tốt, trả về nút lá\n",
    "            return TreeNode(value=np.bincount(y).argmax())  # Trả về lớp phổ biến nhất\n",
    "        X_left, X_right, y_left, y_right = self.split_(X, y, feature, threshold)  # Chia dữ liệu\n",
    "        left_child = self.build_tree_(X_left, y_left, depth + 1, max_depth)  # Xây dựng nút con bên trái\n",
    "        right_child = self.build_tree_(X_right, y_right, depth + 1, max_depth)  # Xây dựng nút con bên phải\n",
    "        return TreeNode(feature=feature, threshold=threshold, left=left_child, right=right_child)\n",
    "    \n",
    "    # Hàm dự đoán giá trị dựa trên cây quyết định\n",
    "    def predict_tree_(self, node, X):\n",
    "        if node.value is not None:  # Nếu là nút lá, trả về giá trị của nút lá\n",
    "            return node.value\n",
    "        if X[node.feature] <= node.threshold:  # Nếu giá trị nhỏ hơn hoặc bằng ngưỡng, duyệt cây con bên trái\n",
    "            return self.predict_tree_(node.left, X)\n",
    "        else:  # Nếu giá trị lớn hơn ngưỡng, duyệt cây con bên phải\n",
    "            return self.predict_tree_(node.right, X)"
   ]
  },
  {
   "cell_type": "markdown",
   "metadata": {},
   "source": [
    "Sau đây là kết quả chạy thử với bộ dữ liệu đầu vào đã được mã hóa TF-IDF sang vector (chi tiết sẽ được báo cáo đầy đủ sau) "
   ]
  },
  {
   "cell_type": "code",
   "execution_count": 8,
   "metadata": {},
   "outputs": [],
   "source": [
    "import pandas as pd "
   ]
  },
  {
   "cell_type": "code",
   "execution_count": null,
   "metadata": {},
   "outputs": [],
   "source": [
    "X = pd.read_csv('tfidf.csv')\n",
    "y = pd.read_csv('tfidf_y.csv')"
   ]
  },
  {
   "cell_type": "code",
   "execution_count": 20,
   "metadata": {},
   "outputs": [],
   "source": [
    "X_train = X.head(200).to_numpy()\n",
    "y_train = y.head(200).to_numpy()[:,0]\n",
    "X_test = X.tail(200).to_numpy()\n",
    "y_test = y.tail(200).to_numpy()[:,0]"
   ]
  },
  {
   "cell_type": "code",
   "execution_count": 21,
   "metadata": {},
   "outputs": [
    {
     "name": "stdout",
     "output_type": "stream",
     "text": [
      "CPU times: total: 3min 27s\n",
      "Wall time: 10min 38s\n"
     ]
    }
   ],
   "source": [
    "%%time\n",
    "dtree = G07DecisionTree(max_depth=12)\n",
    "dtree.fit(X_train, y_train)"
   ]
  },
  {
   "cell_type": "code",
   "execution_count": 22,
   "metadata": {},
   "outputs": [
    {
     "data": {
      "text/plain": [
       "array([1, 1, 0, 0, 0, 0, 1, 0, 1, 0, 1, 0, 0, 1, 0, 0, 1, 0, 0, 0, 1, 0,\n",
       "       0, 0, 1, 1, 1, 1, 0, 0, 1, 0, 0, 1, 0, 0, 0, 0, 0, 1, 0, 0, 0, 1,\n",
       "       0, 0, 1, 0, 0, 0, 0, 0, 1, 0, 1, 0, 0, 0, 0, 0, 0, 1, 0, 0, 0, 1,\n",
       "       1, 0, 0, 1, 0, 1, 0, 0, 0, 1, 0, 0, 0, 0, 0, 0, 1, 1, 0, 1, 1, 0,\n",
       "       0, 1, 0, 0, 0, 1, 0, 0, 0, 0, 0, 1, 0, 0, 0, 0, 0, 0, 0, 1, 1, 0,\n",
       "       0, 1, 1, 1, 0, 0, 0, 1, 1, 0, 0, 1, 0, 1, 0, 1, 0, 0, 0, 1, 0, 0,\n",
       "       1, 0, 1, 1, 1, 0, 0, 1, 0, 0, 0, 0, 0, 0, 0, 1, 0, 1, 0, 1, 0, 0,\n",
       "       0, 1, 1, 0, 0, 0, 0, 0, 0, 1, 0, 0, 0, 0, 0, 0, 1, 0, 0, 1, 0, 1,\n",
       "       0, 1, 0, 1, 1, 1, 0, 0, 0, 0, 0, 0, 1, 0, 0, 1, 0, 1, 0, 0, 0, 0,\n",
       "       0, 0], dtype=int64)"
      ]
     },
     "execution_count": 22,
     "metadata": {},
     "output_type": "execute_result"
    }
   ],
   "source": [
    "y_pred = dtree.predict(X_test)\n",
    "y_pred"
   ]
  },
  {
   "cell_type": "code",
   "execution_count": 23,
   "metadata": {},
   "outputs": [
    {
     "data": {
      "text/plain": [
       "0.89"
      ]
     },
     "execution_count": 23,
     "metadata": {},
     "output_type": "execute_result"
    }
   ],
   "source": [
    "from sklearn.metrics import accuracy_score\n",
    "accuracy_score(y_test, y_pred)"
   ]
  },
  {
   "cell_type": "markdown",
   "metadata": {},
   "source": [
    "### Kết quả, vấn đề gặp phải\n",
    "Như vậy, nhóm G07 đã thử nghiệm Decision Tree đã xây dựng và đạt độ chính xác 89% khi mới chỉ huấn luyện trên 200 hàng đầu của datasets.\n",
    "\n",
    "Tuy vậy, hạn chế vẫn còn khi huấn luyện 200 hàng đầu này đã mất khoảng 10 phút (với 3 phút 27 s CPU). Trong những tuần sau nhóm sẽ tập trung vào cải thiện thời gian fit cho datasets."
   ]
  }
 ],
 "metadata": {
  "kernelspec": {
   "display_name": "Python 3",
   "language": "python",
   "name": "python3"
  },
  "language_info": {
   "codemirror_mode": {
    "name": "ipython",
    "version": 3
   },
   "file_extension": ".py",
   "mimetype": "text/x-python",
   "name": "python",
   "nbconvert_exporter": "python",
   "pygments_lexer": "ipython3",
   "version": "3.11.9"
  }
 },
 "nbformat": 4,
 "nbformat_minor": 2
}
