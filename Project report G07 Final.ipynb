{
 "cells": [
  {
   "cell_type": "markdown",
   "metadata": {},
   "source": [
    "# Báo cáo Project\n",
    "Lớp TTNT-154016, Nhóm G07"
   ]
  },
  {
   "cell_type": "markdown",
   "metadata": {},
   "source": [
    "# Mục lục\n",
    "1. Thông tin chung\n",
    "    * Thành viên\n",
    "2. Đề xuất project (W2-3)\n",
    "    * Bài toán\n",
    "    * Phương pháp\n",
    "    * Phân công\n",
    "3. Tiến độ giữa kỳ (W9)\n",
    "    * Chương trình\n",
    "    * Kết quả, vấn đề gặp phải\n",
    "4. Cập nhật kết quả cuối kỳ (W15)\n",
    "    * Xử lý dữ liệu\n",
    "        * Tải dữ liệu\n",
    "        * Tiền xử lý dữ liệu\n",
    "        * Mã hóa vector\n",
    "        * Chia tập dữ liệu huấn luyện, kiểm tra\n",
    "    * Decision Tree (cây quyết định) và thuật toán ID3\n",
    "        * Cơ sở lý thuyết về cây quyết định\n",
    "        * Thuật toán ID3\n",
    "            * Ý tưởng chính\n",
    "            * Thuật toán\n",
    "    * Chương trình thực thi Decision Tree bằng thuật toán ID3\n",
    "    * Phân tích và đánh giá kết quả\n",
    "        * Đánh giá độ chính xác của mô hình\n",
    "        * Sự tác động của các siêu tham số vào mô hình\n",
    "        * Mô hình cuối cùng và so sánh với Decision Tree của sklearn"
   ]
  },
  {
   "cell_type": "markdown",
   "metadata": {},
   "source": [
    "## 1. Thông tin chung"
   ]
  },
  {
   "cell_type": "markdown",
   "metadata": {},
   "source": [
    "### Thành viên\n",
    "- Đỗ Huy Đạt 20220024\n",
    "- Đoàn Nguyễn Hải Nam 20220035\n",
    "- Lê Minh Triết 20220045\n",
    "- Đàm Hồng Thái 20183625"
   ]
  },
  {
   "cell_type": "markdown",
   "metadata": {},
   "source": [
    "## 2. Đề xuất project (W2-3)"
   ]
  },
  {
   "cell_type": "markdown",
   "metadata": {},
   "source": [
    "### Bài toán\n",
    "Phân loại Email Spam"
   ]
  },
  {
   "cell_type": "markdown",
   "metadata": {},
   "source": [
    "### Phương pháp\n",
    "Sử dụng Decision Tree"
   ]
  },
  {
   "cell_type": "markdown",
   "metadata": {},
   "source": [
    "### Phân công\n",
    "- ĐH Đạt: Xây dựng Decision Tree, đánh giá kết quả\n",
    "- ĐNH Nam: Chuyển đổi dữ liệu thành vector, xây dựng Decision Tree\n",
    "- LM Triết: Xây dựng Decision Tree, đánh giá kết quả\n",
    "- ĐH Thái: Làm sạch, phân tích dữ liệu"
   ]
  },
  {
   "cell_type": "markdown",
   "metadata": {},
   "source": [
    "## 3. Tiến độ giữa kỳ (W9)"
   ]
  },
  {
   "cell_type": "markdown",
   "metadata": {},
   "source": [
    "### Chương trình\n",
    "Trước hết, nhóm xây dựng một Decision Tree đơn giản dựa trên chỉ số Gini để tạo cây.\n",
    "Mã nguồn lưu trong [g7_decision_tree.py](g7_decision_tree.py).\n",
    "\n",
    "Mã nguồn cũng được triển khai trong cell dưới đây"
   ]
  },
  {
   "cell_type": "code",
   "execution_count": 1,
   "metadata": {},
   "outputs": [],
   "source": [
    "import numpy as np\n",
    "\n",
    "# Class đại diện cho một nút trong cây quyết định\n",
    "class TreeNode:\n",
    "    def __init__(self, feature=None, threshold=None, left=None, right=None, value=None):\n",
    "        self.feature = feature      # Đặc trưng sử dụng để chia dữ liệu\n",
    "        self.threshold = threshold  # Ngưỡng sử dụng để chia dữ liệu\n",
    "        self.left = left            # Con trỏ tới nút con bên trái\n",
    "        self.right = right          # Con trỏ tới nút con bên phải\n",
    "        self.value = value          # Giá trị của nút nếu là nút lá\n",
    "\n",
    "# Hàm tính chỉ số Gini để đo độ thuần nhất của nút\n",
    "def gini(y):\n",
    "    _, counts = np.unique(y, return_counts=True)  # Tìm các lớp và số lượng phần tử trong mỗi lớp\n",
    "    gini = 1.0 - sum((count / len(y)) ** 2 for count in counts)  # Tính chỉ số Gini\n",
    "    return gini\n",
    "\n",
    "class G07DecisionTree():\n",
    "    def __init__(self, max_depth=10):\n",
    "        self.max_depth = max_depth\n",
    "        self.tree = TreeNode()\n",
    "\n",
    "    # Hàm fit tree với datasets\n",
    "    def fit(self, X, y):\n",
    "        self.tree = self.build_tree_(X, y, depth=0, max_depth=self.max_depth)\n",
    "    \n",
    "    # Hàm dự đoán một tập dữ liệu\n",
    "    def predict(self, X):\n",
    "        return np.array([self.predict_tree_(self.tree, x) for x in X])\n",
    "    \n",
    "    # Hàm chia dữ liệu theo đặc trưng và ngưỡng\n",
    "    def split_(self, X, y, feature, threshold):\n",
    "        left_mask = X[:, feature] <= threshold  # Mặt nạ để lấy các phần tử nhỏ hơn hoặc bằng ngưỡng\n",
    "        right_mask = X[:, feature] > threshold  # Mặt nạ để lấy các phần tử lớn hơn ngưỡng\n",
    "        return X[left_mask], X[right_mask], y[left_mask], y[right_mask]\n",
    "\n",
    "    # Hàm tìm đặc trưng và ngưỡng tốt nhất để chia dữ liệu\n",
    "    def best_split_(self, X, y):\n",
    "        best_gini = 1.0\n",
    "        best_feature = None\n",
    "        best_threshold = None\n",
    "        for feature in range(X.shape[1]):  # Duyệt qua từng đặc trưng\n",
    "            thresholds = np.unique(X[:, feature])  # Tìm tất cả các ngưỡng duy nhất\n",
    "            for threshold in thresholds:  # Duyệt qua từng ngưỡng\n",
    "                X_left, X_right, y_left, y_right = self.split_(X, y, feature, threshold)  # Chia dữ liệu\n",
    "                if len(y_left) == 0 or len(y_right) == 0:  # Nếu một trong hai phần trống, bỏ qua\n",
    "                    continue\n",
    "                gini_left = gini(y_left)  # Tính chỉ số Gini cho phần bên trái\n",
    "                gini_right = gini(y_right)  # Tính chỉ số Gini cho phần bên phải\n",
    "                gini_split = (len(y_left) * gini_left + len(y_right) * gini_right) / len(y)  # Tính chỉ số Gini trung bình\n",
    "                if gini_split < best_gini:  # Nếu Gini nhỏ hơn, cập nhật đặc trưng và ngưỡng tốt nhất\n",
    "                    best_gini = gini_split\n",
    "                    best_feature = feature\n",
    "                    best_threshold = threshold\n",
    "        return best_feature, best_threshold\n",
    "    \n",
    "    # Hàm xây dựng cây quyết định đệ quy\n",
    "    def build_tree_(self, X, y, depth=0, max_depth=10):\n",
    "        if len(np.unique(y)) == 1:  # Nếu tất cả các phần tử cùng một lớp, trả về nút lá\n",
    "            return TreeNode(value=y[0])\n",
    "        if depth >= max_depth:  # Nếu độ sâu đạt giới hạn, trả về nút lá\n",
    "            return TreeNode(value=np.bincount(y).argmax())  # Trả về lớp phổ biến nhất\n",
    "        feature, threshold = self.best_split_(X, y)  # Tìm đặc trưng và ngưỡng tốt nhất\n",
    "        if feature is None:  # Nếu không tìm được đặc trưng tốt, trả về nút lá\n",
    "            return TreeNode(value=np.bincount(y).argmax())  # Trả về lớp phổ biến nhất\n",
    "        X_left, X_right, y_left, y_right = self.split_(X, y, feature, threshold)  # Chia dữ liệu\n",
    "        left_child = self.build_tree_(X_left, y_left, depth + 1, max_depth)  # Xây dựng nút con bên trái\n",
    "        right_child = self.build_tree_(X_right, y_right, depth + 1, max_depth)  # Xây dựng nút con bên phải\n",
    "        return TreeNode(feature=feature, threshold=threshold, left=left_child, right=right_child)\n",
    "    \n",
    "    # Hàm dự đoán giá trị dựa trên cây quyết định\n",
    "    def predict_tree_(self, node, X):\n",
    "        if node.value is not None:  # Nếu là nút lá, trả về giá trị của nút lá\n",
    "            return node.value\n",
    "        if X[node.feature] <= node.threshold:  # Nếu giá trị nhỏ hơn hoặc bằng ngưỡng, duyệt cây con bên trái\n",
    "            return self.predict_tree_(node.left, X)\n",
    "        else:  # Nếu giá trị lớn hơn ngưỡng, duyệt cây con bên phải\n",
    "            return self.predict_tree_(node.right, X)"
   ]
  },
  {
   "cell_type": "markdown",
   "metadata": {},
   "source": [
    "Sau đây là kết quả chạy thử với bộ dữ liệu đầu vào đã được mã hóa TF-IDF sang vector (chi tiết sẽ được báo cáo đầy đủ sau) "
   ]
  },
  {
   "cell_type": "code",
   "execution_count": 2,
   "metadata": {},
   "outputs": [],
   "source": [
    "import pandas as pd "
   ]
  },
  {
   "cell_type": "code",
   "execution_count": 3,
   "metadata": {},
   "outputs": [],
   "source": [
    "X = pd.read_csv('tfidf.csv')\n",
    "y = pd.read_csv('tfidf_y.csv')"
   ]
  },
  {
   "cell_type": "code",
   "execution_count": 4,
   "metadata": {},
   "outputs": [],
   "source": [
    "X_train = X.head(200).to_numpy()\n",
    "y_train = y.head(200).to_numpy()[:,0]\n",
    "X_test = X.tail(200).to_numpy()\n",
    "y_test = y.tail(200).to_numpy()[:,0]"
   ]
  },
  {
   "cell_type": "code",
   "execution_count": 5,
   "metadata": {},
   "outputs": [
    {
     "name": "stdout",
     "output_type": "stream",
     "text": [
      "CPU times: total: 2min 57s\n",
      "Wall time: 7min 49s\n"
     ]
    }
   ],
   "source": [
    "%%time\n",
    "dtree = G07DecisionTree(max_depth=6)\n",
    "dtree.fit(X_train, y_train)"
   ]
  },
  {
   "cell_type": "code",
   "execution_count": null,
   "metadata": {},
   "outputs": [
    {
     "data": {
      "text/plain": [
       "array([0, 0, 1, 1, 1, 0, 1, 1, 0, 0, 1, 1, 0, 1, 0, 1, 0, 0, 0, 0, 0, 0,\n",
       "       0, 0, 1, 0, 0, 0, 0, 0, 0, 0, 0, 0, 1, 1, 0, 1, 0, 0, 1, 1, 0, 0,\n",
       "       0, 0, 1, 1, 1, 0, 1, 0, 1, 0, 0, 1, 0, 0, 0, 0, 1, 0, 0, 0, 0, 0,\n",
       "       1, 1, 1, 0, 1, 1, 0, 0, 1, 1, 0, 0, 0, 0, 0, 0, 0, 0, 0, 1, 1, 0,\n",
       "       0, 1, 1, 1, 1, 1, 1, 1, 1, 0, 1, 0, 0, 0, 1, 1, 1, 0, 1, 0, 0, 1,\n",
       "       1, 0, 0, 0, 0, 1, 0, 1, 0, 0, 0, 0, 0, 0, 1, 0, 1, 0, 1, 1, 0, 0,\n",
       "       1, 0, 1, 1, 0, 1, 1, 1, 0, 1, 0, 0, 1, 0, 0, 1, 0, 0, 0, 0, 0, 0,\n",
       "       1, 0, 0, 1, 1, 0, 0, 0, 1, 1, 1, 0, 0, 0, 0, 0, 0, 0, 0, 1, 1, 1,\n",
       "       1, 0, 1, 1, 1, 0, 1, 0, 1, 0, 1, 0, 0, 0, 0, 1, 0, 0, 0, 1, 0, 0,\n",
       "       0, 0], dtype=int64)"
      ]
     },
     "execution_count": 8,
     "metadata": {},
     "output_type": "execute_result"
    }
   ],
   "source": [
    "y_pred = dtree.predict(X_test)\n",
    "y_pred"
   ]
  },
  {
   "cell_type": "code",
   "execution_count": 10,
   "metadata": {},
   "outputs": [
    {
     "data": {
      "text/plain": [
       "0.575"
      ]
     },
     "execution_count": 10,
     "metadata": {},
     "output_type": "execute_result"
    }
   ],
   "source": [
    "from sklearn.metrics import accuracy_score\n",
    "accuracy_score(y_test, y_pred)"
   ]
  },
  {
   "cell_type": "markdown",
   "metadata": {},
   "source": [
    "### Kết quả, vấn đề gặp phải\n",
    "Như vậy, nhóm G07 đã thử nghiệm Decision Tree đã xây dựng và đạt độ chính xác 58% khi mới chỉ huấn luyện trên 200 hàng đầu của datasets.\n",
    "\n",
    "Tuy vậy, hạn chế vẫn còn khi huấn luyện 200 hàng đầu này đã mất khoảng 8 phút. Trong những tuần sau nhóm sẽ tập trung vào cải thiện thời gian fit cho datasets và độ chính xác của mô hình"
   ]
  },
  {
   "cell_type": "markdown",
   "metadata": {},
   "source": [
    "## 4. Cập nhật kết quả cuối kỳ (W15)"
   ]
  },
  {
   "cell_type": "markdown",
   "metadata": {},
   "source": [
    "### Xử lý dữ liệu "
   ]
  },
  {
   "cell_type": "markdown",
   "metadata": {},
   "source": [
    "#### Tải dữ liệu"
   ]
  },
  {
   "cell_type": "markdown",
   "metadata": {},
   "source": [
    "Dữ liệu được lấy từ nguồn sau: [Spam Email Dataset](https://www.kaggle.com/datasets/venky73/spam-mails-dataset)"
   ]
  },
  {
   "cell_type": "code",
   "execution_count": 1,
   "metadata": {},
   "outputs": [
    {
     "name": "stderr",
     "output_type": "stream",
     "text": [
      "[nltk_data] Downloading package stopwords to\n",
      "[nltk_data]     C:\\Users\\admin\\AppData\\Roaming\\nltk_data...\n",
      "[nltk_data]   Package stopwords is already up-to-date!\n"
     ]
    },
    {
     "data": {
      "text/plain": [
       "True"
      ]
     },
     "execution_count": 1,
     "metadata": {},
     "output_type": "execute_result"
    }
   ],
   "source": [
    "import pandas as pd\n",
    "import numpy as np\n",
    "import matplotlib.pyplot as plt\n",
    "import seaborn as sns\n",
    "from sklearn.model_selection import train_test_split\n",
    "from sklearn.feature_extraction.text import TfidfVectorizer\n",
    "from sklearn.metrics import accuracy_score, f1_score\n",
    "\n",
    "import string\n",
    "import pickle\n",
    "from nltk.corpus import stopwords\n",
    "from nltk.stem import SnowballStemmer\n",
    "import nltk\n",
    "nltk.download('stopwords')"
   ]
  },
  {
   "cell_type": "code",
   "execution_count": 2,
   "metadata": {},
   "outputs": [
    {
     "name": "stdout",
     "output_type": "stream",
     "text": [
      "Warning: Looks like you're using an outdated API Version, please consider updating (server 1.6.17 / client 1.6.12)\n",
      "Dataset URL: https://www.kaggle.com/datasets/venky73/spam-mails-dataset\n",
      "License(s): CC0-1.0\n",
      "spam-mails-dataset.zip: Skipping, found more recently modified local copy (use --force to force download)\n"
     ]
    }
   ],
   "source": [
    "!kaggle datasets download venky73/spam-mails-dataset"
   ]
  },
  {
   "cell_type": "code",
   "execution_count": 3,
   "metadata": {},
   "outputs": [],
   "source": [
    "from zipfile import ZipFile\n",
    "with ZipFile('spam-mails-dataset.zip') as f:\n",
    "    f.extractall('data/')"
   ]
  },
  {
   "cell_type": "code",
   "execution_count": 4,
   "metadata": {},
   "outputs": [],
   "source": [
    "emails = pd.read_csv('data/spam_ham_dataset.csv')"
   ]
  },
  {
   "cell_type": "code",
   "execution_count": 5,
   "metadata": {},
   "outputs": [
    {
     "data": {
      "text/html": [
       "<div>\n",
       "<style scoped>\n",
       "    .dataframe tbody tr th:only-of-type {\n",
       "        vertical-align: middle;\n",
       "    }\n",
       "\n",
       "    .dataframe tbody tr th {\n",
       "        vertical-align: top;\n",
       "    }\n",
       "\n",
       "    .dataframe thead th {\n",
       "        text-align: right;\n",
       "    }\n",
       "</style>\n",
       "<table border=\"1\" class=\"dataframe\">\n",
       "  <thead>\n",
       "    <tr style=\"text-align: right;\">\n",
       "      <th></th>\n",
       "      <th>Unnamed: 0</th>\n",
       "      <th>label</th>\n",
       "      <th>text</th>\n",
       "      <th>label_num</th>\n",
       "    </tr>\n",
       "  </thead>\n",
       "  <tbody>\n",
       "    <tr>\n",
       "      <th>0</th>\n",
       "      <td>605</td>\n",
       "      <td>ham</td>\n",
       "      <td>Subject: enron methanol ; meter # : 988291\\r\\n...</td>\n",
       "      <td>0</td>\n",
       "    </tr>\n",
       "    <tr>\n",
       "      <th>1</th>\n",
       "      <td>2349</td>\n",
       "      <td>ham</td>\n",
       "      <td>Subject: hpl nom for january 9 , 2001\\r\\n( see...</td>\n",
       "      <td>0</td>\n",
       "    </tr>\n",
       "    <tr>\n",
       "      <th>2</th>\n",
       "      <td>3624</td>\n",
       "      <td>ham</td>\n",
       "      <td>Subject: neon retreat\\r\\nho ho ho , we ' re ar...</td>\n",
       "      <td>0</td>\n",
       "    </tr>\n",
       "    <tr>\n",
       "      <th>3</th>\n",
       "      <td>4685</td>\n",
       "      <td>spam</td>\n",
       "      <td>Subject: photoshop , windows , office . cheap ...</td>\n",
       "      <td>1</td>\n",
       "    </tr>\n",
       "    <tr>\n",
       "      <th>4</th>\n",
       "      <td>2030</td>\n",
       "      <td>ham</td>\n",
       "      <td>Subject: re : indian springs\\r\\nthis deal is t...</td>\n",
       "      <td>0</td>\n",
       "    </tr>\n",
       "  </tbody>\n",
       "</table>\n",
       "</div>"
      ],
      "text/plain": [
       "   Unnamed: 0 label                                               text  \\\n",
       "0         605   ham  Subject: enron methanol ; meter # : 988291\\r\\n...   \n",
       "1        2349   ham  Subject: hpl nom for january 9 , 2001\\r\\n( see...   \n",
       "2        3624   ham  Subject: neon retreat\\r\\nho ho ho , we ' re ar...   \n",
       "3        4685  spam  Subject: photoshop , windows , office . cheap ...   \n",
       "4        2030   ham  Subject: re : indian springs\\r\\nthis deal is t...   \n",
       "\n",
       "   label_num  \n",
       "0          0  \n",
       "1          0  \n",
       "2          0  \n",
       "3          1  \n",
       "4          0  "
      ]
     },
     "execution_count": 5,
     "metadata": {},
     "output_type": "execute_result"
    }
   ],
   "source": [
    "emails.head()"
   ]
  },
  {
   "cell_type": "code",
   "execution_count": 6,
   "metadata": {},
   "outputs": [
    {
     "data": {
      "text/plain": [
       "label\n",
       "ham     0.710114\n",
       "spam    0.289886\n",
       "Name: proportion, dtype: float64"
      ]
     },
     "execution_count": 6,
     "metadata": {},
     "output_type": "execute_result"
    }
   ],
   "source": [
    "emails['label'].value_counts(normalize=True)"
   ]
  },
  {
   "cell_type": "code",
   "execution_count": 7,
   "metadata": {},
   "outputs": [
    {
     "data": {
      "text/plain": [
       "<Axes: xlabel='label', ylabel='count'>"
      ]
     },
     "execution_count": 7,
     "metadata": {},
     "output_type": "execute_result"
    },
    {
     "data": {
      "image/png": "[encoded data removed]",
      "text/plain": [
       "<Figure size 640x480 with 1 Axes>"
      ]
     },
     "metadata": {},
     "output_type": "display_data"
    }
   ],
   "source": [
    "sns.countplot(emails, x='label')"
   ]
  },
  {
   "cell_type": "markdown",
   "metadata": {},
   "source": [
    "#### Tiền xử lý dữ liệu"
   ]
  },
  {
   "cell_type": "markdown",
   "metadata": {},
   "source": [
    "- Định nghĩa một hàm `preprocess_text()` để tiền xử lý dữ liệu văn bản bằng cách loại bỏ dấu câu, phân tách từ, loại bỏ từ dừng và áp dụng stemming.\n",
    "\n",
    "- Sau đó, hàm này sẽ được áp dụng cho cột 'text' của một DataFrame có tên là `emails`, tạo ra một cột mới có tên `cleaned_text` chứa văn bản đã được xử lý."
   ]
  },
  {
   "cell_type": "code",
   "execution_count": 8,
   "metadata": {},
   "outputs": [
    {
     "data": {
      "text/html": [
       "<div>\n",
       "<style scoped>\n",
       "    .dataframe tbody tr th:only-of-type {\n",
       "        vertical-align: middle;\n",
       "    }\n",
       "\n",
       "    .dataframe tbody tr th {\n",
       "        vertical-align: top;\n",
       "    }\n",
       "\n",
       "    .dataframe thead th {\n",
       "        text-align: right;\n",
       "    }\n",
       "</style>\n",
       "<table border=\"1\" class=\"dataframe\">\n",
       "  <thead>\n",
       "    <tr style=\"text-align: right;\">\n",
       "      <th></th>\n",
       "      <th>Unnamed: 0</th>\n",
       "      <th>label</th>\n",
       "      <th>text</th>\n",
       "      <th>label_num</th>\n",
       "      <th>cleaned_text</th>\n",
       "    </tr>\n",
       "  </thead>\n",
       "  <tbody>\n",
       "    <tr>\n",
       "      <th>0</th>\n",
       "      <td>605</td>\n",
       "      <td>ham</td>\n",
       "      <td>Subject: enron methanol ; meter # : 988291\\r\\n...</td>\n",
       "      <td>0</td>\n",
       "      <td>subject enron methanol meter 988291 follow not...</td>\n",
       "    </tr>\n",
       "    <tr>\n",
       "      <th>1</th>\n",
       "      <td>2349</td>\n",
       "      <td>ham</td>\n",
       "      <td>Subject: hpl nom for january 9 , 2001\\r\\n( see...</td>\n",
       "      <td>0</td>\n",
       "      <td>subject hpl nom januari 9 2001 see attach file...</td>\n",
       "    </tr>\n",
       "    <tr>\n",
       "      <th>2</th>\n",
       "      <td>3624</td>\n",
       "      <td>ham</td>\n",
       "      <td>Subject: neon retreat\\r\\nho ho ho , we ' re ar...</td>\n",
       "      <td>0</td>\n",
       "      <td>subject neon retreat ho ho ho around wonder ti...</td>\n",
       "    </tr>\n",
       "    <tr>\n",
       "      <th>3</th>\n",
       "      <td>4685</td>\n",
       "      <td>spam</td>\n",
       "      <td>Subject: photoshop , windows , office . cheap ...</td>\n",
       "      <td>1</td>\n",
       "      <td>subject photoshop window offic cheap main tren...</td>\n",
       "    </tr>\n",
       "    <tr>\n",
       "      <th>4</th>\n",
       "      <td>2030</td>\n",
       "      <td>ham</td>\n",
       "      <td>Subject: re : indian springs\\r\\nthis deal is t...</td>\n",
       "      <td>0</td>\n",
       "      <td>subject indian spring deal book teco pvr reven...</td>\n",
       "    </tr>\n",
       "  </tbody>\n",
       "</table>\n",
       "</div>"
      ],
      "text/plain": [
       "   Unnamed: 0 label                                               text  \\\n",
       "0         605   ham  Subject: enron methanol ; meter # : 988291\\r\\n...   \n",
       "1        2349   ham  Subject: hpl nom for january 9 , 2001\\r\\n( see...   \n",
       "2        3624   ham  Subject: neon retreat\\r\\nho ho ho , we ' re ar...   \n",
       "3        4685  spam  Subject: photoshop , windows , office . cheap ...   \n",
       "4        2030   ham  Subject: re : indian springs\\r\\nthis deal is t...   \n",
       "\n",
       "   label_num                                       cleaned_text  \n",
       "0          0  subject enron methanol meter 988291 follow not...  \n",
       "1          0  subject hpl nom januari 9 2001 see attach file...  \n",
       "2          0  subject neon retreat ho ho ho around wonder ti...  \n",
       "3          1  subject photoshop window offic cheap main tren...  \n",
       "4          0  subject indian spring deal book teco pvr reven...  "
      ]
     },
     "execution_count": 8,
     "metadata": {},
     "output_type": "execute_result"
    }
   ],
   "source": [
    "def preprocess_text(text):\n",
    "    # Remove punctuation\n",
    "    text = ''.join([char for char in text if char not in string.punctuation])\n",
    "    # Tokenize words\n",
    "    words = text.split()\n",
    "    # Remove stopwords and stemming\n",
    "    stop_words = stopwords.words('english')\n",
    "    stemmer = SnowballStemmer('english')\n",
    "    words = [stemmer.stem(word) for word in words if word.lower() not in stop_words]\n",
    "    return ' '.join(words)\n",
    "\n",
    "emails['cleaned_text'] = emails['text'].apply(preprocess_text)\n",
    "emails.head()"
   ]
  },
  {
   "cell_type": "markdown",
   "metadata": {},
   "source": [
    "Diễn giải thêm về hàm này:\n",
    "\n",
    "1. Function Definition (preprocess_text) : Hàm này nhận một tham số duy nhất, `text`, được mong đợi là một chuỗi (nội dung của một email trong trường hợp này).\n",
    "\n",
    "2. Removing Punctuation :\n",
    "    - Đoạn code `text = ''.join([char for char in text if char not in string.punctuation])` lặp qua từng ký tự trong văn bản đầu vào và giữ lại chỉ những ký tự không phải là dấu câu.\n",
    "    - Việc này được thực hiện bằng cách sử dụng một comprehension danh sách và mô-đun `string.punctuation`, chứa tất cả các ký hiệu dấu câu thông dụng.\n",
    "\n",
    "3. Tokenizing Words : Sau khi loại bỏ dấu câu, `text.split()` được sử dụng để phân tách văn bản thành các từ riêng lẻ (tokens) dựa trên khoảng trắng. Điều này tạo ra một danh sách các từ.\n",
    "\n",
    "4. Removing Stopwords and Stemming :\n",
    "    - Stopwords là những từ thông dụng (như \"và\", \"cái\", \"là\", v.v.) thường được loại bỏ khỏi dữ liệu văn bản vì chúng không đóng góp nhiều vào ý nghĩa của văn bản. Hàm `stopwords.words('english')` từ thư viện nltk (Natural Language Toolkit) cung cấp một danh sách các stopwords trong tiếng Anh.\n",
    "\n",
    "    - Stemming là quá trình rút gọn một từ về dạng cơ sở hoặc gốc của nó. Ví dụ, \"running\" trở thành \"run.\" `SnowballStemmer` là một loại stemmer được cung cấp bởi thư viện nltk, được sử dụng ở đây để thực hiện quá trình stemming.\n",
    "\n",
    "    - Đoạn code `words = [stemmer.stem(word) for word in words if word.lower() not in stop_words]` thực hiện cả việc loại bỏ stopwords và stemming. Nó lặp qua danh sách các từ, chuyển mỗi từ thành chữ thường, kiểm tra xem nó không phải là stopwords, và sau đó thực hiện stemming bằng cách sử dụng `SnowballStemmer`.\n",
    "\n",
    "5. Joining Words Back into a String : Các từ đã được tiền xử lý sau đó được nối lại thành một chuỗi duy nhất bằng cách sử dụng `' '.join(words)` để tạo ra phiên bản văn bản đã được làm sạch.\n",
    "\n",
    "6. Applying the Function to the Dataset :\n",
    "`emails['cleaned_text'] = emails['text'].apply(preprocess_text)` áp dụng hàm `preprocess_text` cho từng phần tử trong cột văn bản của DataFrame `emails`. Kết quả được lưu trữ trong một cột mới có tên là `cleaned_text`."
   ]
  },
  {
   "cell_type": "markdown",
   "metadata": {},
   "source": [
    "#### Mã hóa vector"
   ]
  },
  {
   "cell_type": "markdown",
   "metadata": {},
   "source": [
    "Thực hiện việc trích xuất đặc trưng sử dụng Vectorizer TF-IDF để chuyển đổi dữ liệu văn bản đã được làm sạch thành dạng số có thể được sử dụng bởi các thuật toán học máy.\n",
    "\n",
    "Viết tắt của thuật ngữ tiếng Anh term frequency – inverse document frequency,tf-idf là trọng số của một từ trong văn bản thu được qua thống kê thể hiện mức độ quan trọng của từ này trong một văn bản, mà bản thân văn bản đang xét nằm trong một tập hợp các văn bản.\n",
    "\n",
    "Thuật toán này thường được sử dụng vì: trong ngôn ngữ luôn có những từ xảy ra thường xuyên với các từ khác.\n",
    "\n",
    "1. Tf- term frequency : dùng để ước lượng tần xuất xuất hiện của từ trong văn bản. Tuy nhiên với mỗi văn bản thì có độ dài khác nhau, vì thế số lần xuất hiện của từ có thể nhiều hơn . Vì vậy số lần xuất hiện của từ sẽ được chia độ dài của văn bản (tổng số từ trong văn bản đó). \n",
    "\n",
    "    `TF(t, d) = ( số lần từ t xuất hiện trong văn bản d) / (tổng số từ trong văn bản d)`\n",
    "\n",
    "2. IDF- Inverse Document Frequency: dùng để ước lượng mức độ quan trọng của từ đó như thế nào . Khi tính tần số xuất hiện tf thì các từ đều được coi là quan trọng như nhau. Tuy nhiên có một số từ thường được được sử dụng nhiều nhưng không quan trọng để thể hiện ý nghĩa của đoạn văn , ví dụ :\n",
    "Từ nối: và, nhưng, tuy nhiên, vì thế, vì vậy, …\n",
    "    * Giới từ: ở, trong, trên, …\n",
    "    * Từ chỉ định: ấy, đó, nhỉ, …\n",
    "    * Vì vậy ta cần giảm đi mức độ quan trọng của những từ đó bằng cách sử dụng IDF :\n",
    "\n",
    "    `IDF(t, D) = log_e( Tổng số văn bản trong tập mẫu D/ Số văn bản có chứa từ t )`\n",
    "\n",
    "    `TfidfVectorizer` là một kỹ thuật trích xuất đặc trưng từ thư viện scikit-learn, chuyển đổi dữ liệu văn bản thành các đặc trưng số dựa trên điểm số TF-IDF. TF-IDF đo lường tầm quan trọng của một từ trong một tài liệu so với sự xuất hiện của nó trong toàn bộ tập hợp tài liệu. Kỹ thuật này giúp giảm trọng số của những từ thường gặp (như \"cái,\" \"và,\" v.v.) mà ít thông tin hơn."
   ]
  },
  {
   "cell_type": "code",
   "execution_count": 9,
   "metadata": {},
   "outputs": [],
   "source": [
    "tfidf_vectorizer = TfidfVectorizer(max_features=2000)\n",
    "X = tfidf_vectorizer.fit_transform(emails['cleaned_text']).toarray()"
   ]
  },
  {
   "cell_type": "markdown",
   "metadata": {},
   "source": [
    "- `tfidf_vectorizer = TfidfVectorizer(max_features=2000)` khởi tạo vectorizer với tối đa 2.000 đặc trưng. Điều này có nghĩa là nó sẽ chỉ xem xét 2.000 từ hàng đầu (dựa trên điểm số TF-IDF của chúng) làm đặc trưng, giúp giảm chiều dữ liệu và chi phí tính toán.\n",
    "\n",
    "- `X = tfidf_vectorizer.fit_transform(emails['cleaned_text']).toarray()` áp dụng biến đổi TF-IDF cho cột `cleaned_text` của DataFrame `emails`. Phương thức `fit_transform` học từ vựng từ dữ liệu văn bản và chuyển đổi nó thành một ma trận tài liệu-thuật ngữ được trọng số bằng TF-IDF. Kết quả sau đó được chuyển đổi thành một mảng NumPy bằng cách sử dụng `.toarray()`, tạo ra một ma trận `X` trong đó mỗi hàng đại diện cho một email, và mỗi cột đại diện cho một đặc trưng TF-IDF tương ứng với một từ."
   ]
  },
  {
   "cell_type": "markdown",
   "metadata": {},
   "source": [
    "#### Chia tập dữ liệu huấn luyện, kiểm tra"
   ]
  },
  {
   "cell_type": "code",
   "execution_count": 10,
   "metadata": {},
   "outputs": [],
   "source": [
    "X = pd.DataFrame(X)\n",
    "y = emails['label_num']\n",
    "\n",
    "X_train, X_test, y_train, y_test = train_test_split(X, y, test_size=0.2, random_state=42)"
   ]
  },
  {
   "cell_type": "markdown",
   "metadata": {},
   "source": [
    "1. Target Variable (y): `y = emails['label_num']` gán biến mục tiêu `y` là cột `label_num` từ DataFrame `emails`. Cột này có thể chứa các nhãn số đại diện cho phân loại của các email, trong đó mỗi email được gán nhãn là \"spam\" (ví dụ: 1) hoặc \"ham\" (không phải spam, ví dụ: 0).\n",
    "\n",
    "2. Splitting Data into Training and Testing Sets:\n",
    "    - `train_test_split` là một hàm từ scikit-learn dùng để chia tập dữ liệu thành các tập huấn luyện và kiểm tra. Mô hình được huấn luyện trên tập huấn luyện và được đánh giá trên tập kiểm tra để đánh giá khả năng tổng quát của nó."
   ]
  },
  {
   "cell_type": "markdown",
   "metadata": {},
   "source": [
    "### Decision Tree (cây quyết định) và thuật toán ID3"
   ]
  },
  {
   "cell_type": "markdown",
   "metadata": {},
   "source": [
    "#### Cơ sở lý thuyết về cây quyết định"
   ]
  },
  {
   "cell_type": "markdown",
   "metadata": {},
   "source": [
    "Decision Tree (cây quyết định) là một mô hình học máy đưa ra kết quả dựa trên các câu hỏi. Nó có dạng như hình bên dưới\n",
    "<img src= \"https://github.com/trietp1253201581/Project_AI_G07/blob/main/decision_tree_sample.png?raw=true\" width = \"400\">\n"
   ]
  },
  {
   "cell_type": "markdown",
   "metadata": {},
   "source": [
    "Trong decision tree, các ô màu xám, lục, đỏ trên hình trên được gọi là các node. Các node thể hiện đầu ra (màu lục và đỏ) được gọi là `node lá` (`leaf node` hoặc `terminal node`). Các node thể hiện câu hỏi là các `non-leaf node`. \n",
    "\n",
    "`Non-leaf node` trên cùng (câu hỏi đầu tiên) được gọi là node gốc (`root node`). Các `non-leaf node` thường có hai hoặc nhiều node con (`child node`). Các child node này có thể là một leaf node hoặc một non-leaf node khác. Các child node có cùng bố mẹ được gọi là sibling node. Nếu tất cả các non-leaf node chỉ có hai child node, ta nói rằng đó là một binary decision tree (cây quyết định nhị phân). \n",
    "\n",
    "Các câu hỏi trong binary decision tree đều có thể đưa được về dạng câu hỏi đúng hay sai. Các decision tree mà một leaf node có nhiều child node cũng có thể được đưa về dạng một binary decision tree. Điều này có thể đạt được vì hầu hết các câu hỏi đều có thể được đưa về dạng câu hỏi đúng sai."
   ]
  },
  {
   "cell_type": "markdown",
   "metadata": {},
   "source": [
    "#### Thuật toán ID3"
   ]
  },
  {
   "cell_type": "markdown",
   "metadata": {},
   "source": [
    "##### Ý tưởng chính"
   ]
  },
  {
   "cell_type": "markdown",
   "metadata": {},
   "source": [
    "Trong ID3, chúng ta cần xác định thứ tự của thuộc tính cần được xem xét tại mỗi bước. Với các bài toán có nhiều thuộc tính và mỗi thuộc tính có nhiều giá trị khác nhau, việc tìm được nghiệm tối ưu thường là không khả thi. Thay vào đó, một phương pháp đơn giản thường được sử dụng là tại mỗi bước, một thuộc tính tốt nhất sẽ được chọn ra dựa trên một tiêu chuẩn nào đó (chúng ta sẽ bàn sớm). Với mỗi thuộc tính được chọn, ta chia dữ liệu vào các child node tương ứng với các giá trị của thuộc tính đó rồi tiếp tục áp dụng phương pháp này cho mỗi child node. Việc chọn ra thuộc tính tốt nhất ở mỗi bước như thế này được gọi là cách chọn greedy (tham lam). Cách chọn này có thể không phải là tối ưu, nhưng trực giác cho chúng ta thấy rằng cách làm này sẽ gần với cách làm tối ưu. Ngoài ra, cách làm này khiến cho bài toán cần giải quyết trở nên đơn giản hơn.\n",
    "\n",
    "Sau mỗi câu hỏi, dữ liệu được phân chia vào từng child node tương ứng với các câu trả lời cho câu hỏi đó. Câu hỏi ở đây chính là một thuộc tính, câu trả lời chính là giá trị của thuộc tính đó. Để đánh giá chất lượng của một cách phân chia, chúng ta cần đi tìm một phép đo.\n",
    "\n",
    "Trước hết, thế nào là một phép phân chia tốt? Bằng trực giác, một phép phân chia là tốt nhất nếu dữ liệu trong mỗi child node hoàn toàn thuộc vào một class–khi đó child node này có thể được coi là một leaf node, tức ta không cần phân chia thêm nữa. Nếu dữ liệu trong các child node vẫn lẫn vào nhau theo tỉ lệ lớn, ta coi rằng phép phân chia đó chưa thực sự tốt. Từ nhận xét này, ta cần có một hàm số đo độ tinh khiết (purity), hoặc độ vẩn đục (impurity) của một phép phân chia. Hàm số này sẽ cho giá trị thấp nhất nếu dữ liệu trong mỗi child node nằm trong cùng một class (tinh khiết nhất), và cho giá trị cao nếu mỗi child node có chứa dữ liệu thuộc nhiều class khác nhau.\n",
    "\n",
    "Một hàm số có các đặc điểm này và được dùng nhiều trong lý thuyết thông tin là hàm entropy. Hàm số entropy được diễn tả trong hình dưới\n",
    "\n",
    "<img src=\"https://github.com/trietp1253201581/Project_AI_G07/blob/main/entropy_func.png?raw=true\" width=550>"
   ]
  },
  {
   "cell_type": "markdown",
   "metadata": {},
   "source": [
    "##### Thuật toán"
   ]
  },
  {
   "cell_type": "markdown",
   "metadata": {},
   "source": [
    "Trong ID3, tổng có trọng số của entropy tại các leaf-node sau khi xây dựng decision tree được coi là hàm mất mát của decision tree đó. Các trọng số ở đây tỉ lệ với số điểm dữ liệu được phân vào mỗi node. Công việc của ID3 là tìm các cách phân chia hợp lý (thứ tự chọn thuộc tính hợp lý) sao cho hàm mất mát cuối cùng đạt giá trị càng nhỏ càng tốt. Như đã đề cập, việc này đạt được bằng cách chọn ra thuộc tính sao cho nếu dùng thuộc tính đó để phân chia, entropy tại mỗi bước giảm đi một lượng lớn nhất. Bài toán xây dựng một decision tree bằng ID3 có thể chia thành các bài toán nhỏ, trong mỗi bài toán, ta chỉ cần chọn ra thuộc tính giúp cho việc phân chia đạt kết quả tốt nhất. Mỗi bài toán nhỏ này tương ứng với việc phân chia dữ liệu trong một non-leaf node. Chúng ta sẽ xây dựng phương pháp tính toán dựa trên mỗi node này."
   ]
  },
  {
   "cell_type": "markdown",
   "metadata": {},
   "source": [
    "Trước hết, **tại mỗi node**:\n",
    "\n",
    "Xét một bài toán với $C$ class khác nhau. Giả sử ta đang làm việc với một non-leaf node với các điểm dữ liệu tạo thành một tập $\\mathcal{S}$ với số phần tử là $N$. Trong các điểm này có $N_c$ điểm thuộc class $c$, với mọi $c\\in \\overline{1,C}$. Xác suất mỗi điểm rơi vào class $c$ được xấp xỉ bởi $\\dfrac{N_c}{N}$. Như vậy entropy tại node này là\n",
    "\\begin{align*}\n",
    "H(\\mathcal{S}) = -\\sum_{c=1}^C \\frac{N_C}{N}\\log{\\frac{N_c}{N}}\\tag{1}\n",
    "\\end{align*}\n",
    "Tiếp theo, giả sử thuộc tính được chọn để chia dữ liệu là $x$. Dựa trên $x$, các điểm dữ liệu trong $\\mathcal{F}$ được phân ra thành $K$ childnode là $\\mathcal{S}_1,...,\\mathcal{S_K}$ với số điểm trong mỗi childnode là $m_1,...,m_K$. Ta tính đại lượng để đo mức độ vẩn đục của một phép chia dựa vào $x$ trên $\\mathcal{S}$ là tổng có trọng số các entropy tại $\\mathcal{S}_k$ (được tính như (1)).\n",
    "\\begin{align*}\n",
    "H(x, \\mathcal{S}) = \\sum_{k=1}^K\\frac{m_k}{N}H(S_k)\n",
    "\\end{align*}\n",
    "Và ta định nghĩa `gain` của node $\\mathcal{S}$ dựa trên việc phân chia theo thuộc tính $x$ là\n",
    "\\begin{align*}\n",
    "G(x, \\mathcal{S}) = H(\\mathcal{S}) - H(x, \\mathcal{S})\n",
    "\\end{align*}\n",
    "Trong thuật toán ID3, tại mỗi node khi phân chia, thuộc tính $x$ được chọn để phân chia là thuộc tính mà có $G(x,\\mathcal{S})$ đạt giá trị lớn nhất.\n",
    "\n",
    "**Điểm dừng** của thuật toán: \n",
    "\n",
    "Trong các thuật toán decision tree nói chung và ID3 nói riêng, nếu ta tiếp tục phân chia các node chưa tinh khiết, ta sẽ thu được một tree mà mọi điểm trong tập huấn luyện đều được dự đoán đúng (giả sử rằng không có hai input giống nhau nào cho output khác nhau). Khi đó, tree có thể sẽ rất phức tạp (nhiều node) với nhiều leaf node chỉ có một vài điểm dữ liệu. Như vậy, nhiều khả năng overfitting sẽ xảy ra.\n",
    "\n",
    "Để tránh overfitting, một trong số các phương pháp sau có thể được sử dụng. Tại một node, nếu một trong số các điều kiện sau đây xảy ra, ta không tiếp tục phân chia node đó và coi nó là một leaf node:\n",
    "\n",
    "* nếu node đó có entropy bằng 0, tức mọi điểm trong node đều thuộc một class.\n",
    "\n",
    "* nếu node đó có số phần tử nhỏ hơn một ngưỡng nào đó. Trong trường hợp này, ta chấp nhận có một số điểm bị phân lớp sai để tránh overfitting. Class cho leaf node này có thể được xác định dựa trên class chiếm đa số trong node.\n",
    "\n",
    "* nếu khoảng cách từ node đó đến root node đạt tới một giá trị nào đó. Việc hạn chế chiều sâu của tree này làm giảm độ phức tạp của tree và phần nào giúp tránh overfitting.\n",
    "\n",
    "* nếu tổng số leaf node vượt quá một ngưỡng nào đó.\n",
    "\n",
    "* nếu việc phân chia node đó không làm giảm entropy quá nhiều (information gain nhỏ hơn một ngưỡng nào đó)."
   ]
  },
  {
   "cell_type": "markdown",
   "metadata": {},
   "source": [
    "### Chương trình thực thi Decision Tree bằng thuật toán ID3"
   ]
  },
  {
   "cell_type": "markdown",
   "metadata": {},
   "source": [
    "Trước hết, ta tạo mỗi cấu trúc TreeNode với các thông tin cần thiết, bao gồm\n",
    "* Những điểm dữ liệu thuộc node này\n",
    "* Độ sâu của Node\n",
    "* Thuộc tính được chọn để chia nhỏ ở nút này (nếu không phải nút lá)\n",
    "* Danh sách các nút con sau khi phân chia\n",
    "* Các giá trị thuộc tính chia nhỏ (hay các ngưỡng chia) trong các nút con\n",
    "* Nhãn (nếu là nút lá)."
   ]
  },
  {
   "cell_type": "code",
   "execution_count": 11,
   "metadata": {},
   "outputs": [],
   "source": [
    "from __future__ import print_function  # Đảm bảo tương thích với phiên bản Python 2 và 3\n",
    "\n",
    "class TreeNode(object):\n",
    "    def __init__(self, ids=None, children=[], entropy=0, depth=0):\n",
    "        self.ids = ids  # Danh sách các chỉ số dữ liệu trong nút này\n",
    "        self.entropy = entropy  # Độ đo entropy của nút, sẽ được tính sau\n",
    "        self.depth = depth  # Độ sâu của nút so với nút gốc\n",
    "        self.split_attribute = None  # Thuộc tính được chọn để chia nhỏ, nếu không phải là nút lá\n",
    "        self.children = children  # Danh sách các nút con của nút hiện tại\n",
    "        self.order = None  # Thứ tự các giá trị của thuộc tính chia nhỏ trong các nút con\n",
    "        self.label = None  # Nhãn của nút nếu nó là nút lá\n",
    "        \n",
    "    def set_properties(self, split_attribute, order):\n",
    "        self.split_attribute = split_attribute  \n",
    "        self.order = order  \n",
    "\n",
    "    def set_label(self, label):\n",
    "        self.label = label "
   ]
  },
  {
   "cell_type": "markdown",
   "metadata": {},
   "source": [
    "Tiếp theo là hàm entropy để tính entropy của một phân phối theo công thức ở phần trước"
   ]
  },
  {
   "cell_type": "code",
   "execution_count": 13,
   "metadata": {},
   "outputs": [],
   "source": [
    "def entropy(freq):\n",
    "    freq_0 = freq[np.array(freq).nonzero()[0]]  # Loại bỏ tần số bằng 0\n",
    "    prob_0 = freq_0 / float(freq_0.sum())  # Tính xác suất của mỗi tần số\n",
    "    return -np.sum(prob_0 * np.log(prob_0))  # Tính entropy"
   ]
  },
  {
   "cell_type": "markdown",
   "metadata": {},
   "source": [
    "Cuối cùng là lớp DecisionTreeID3 để minh họa cách xây dựng một Decision Tree bằng thuật toán ID3, nó sẽ gồm các siêu tham số sau để tránh overfitting (tương ứng những gì đã trình bày ở phần trước):\n",
    "* `max_depth`: giới hạn độ sâu của cây.\n",
    "* `min_samples_split`: số mẫu tối thiểu cần có ở mỗi node con khi áp dụng chia thuộc tính ở node cha.\n",
    "* `min_gain`: giá trị gain tối thiểu để áp dụng một cách phân chia ở một node.\n",
    "* `max_bin`: số lượng ngưỡng tối đa được tạo ra để chia tách một thuộc tính numeric (sẽ được trình bày kĩ hơn ở dưới).\n",
    "Lớp này gồm các phương thức quan trọng:\n",
    "* `fit(data, target)`: Xây dựng cây dựa trên dữ liệu huấn luyện là `data` và nhãn tương ứng là `target`. Nó sẽ lấy node gốc (root) là node chứa toàn bộ dữ liệu và bắt đầu phân chia dựa vào hàm `split`.\n",
    "* `split(node)`: Chia một Node bằng thuật toán ID3. Nó sẽ duyệt qua từng thuộc tính (đặc trưng) của dữ liệu và tính toán gain cho mỗi thuộc tính theo cách đã được trình bày ở phần trước. Cuối cùng, nó sẽ chọn thuộc tính mà sau khi sử dụng để chia thì có gain cao nhất và trả về danh sách các nút con được chia.\n",
    "\n",
    "Có một chú ý thêm rằng, trong khi chia:\n",
    "* Nếu thuộc tính là categorical thì giá trị thuộc tính tại các node con chính là các giá trị duy nhất có thể có của thuộc tính đó trong bộ dữ liệu.\n",
    "* Nếu thuộc tính là numeric thì sẽ dùng các ngưỡng để phân chia các dữ liệu vào các nút con (ví dụ `<7`, `>=7 & <8`, etc.). Ngưỡng được chọn chính là trung bình cộng 2 giá trị liên tiếp trong tập giá trị đã được sắp xếp của thuộc tính này. Tuy nhiên, nếu số lượng ngưỡng được tạo ra vượt qua `max_bin` thì các ngưỡng sẽ được chọn ngẫu nhiên để đảm bảo có nhiều nhất `max_bin` ngưỡng."
   ]
  },
  {
   "cell_type": "code",
   "execution_count": 14,
   "metadata": {},
   "outputs": [],
   "source": [
    "class DecisionTreeID3(object):\n",
    "    def __init__(self, max_depth=8, min_samples_split=2, min_gain=1e-4, max_bin=8):\n",
    "        self.root = None  # Nút gốc của cây quyết định\n",
    "        self.max_depth = max_depth  # Độ sâu tối đa của cây\n",
    "        self.min_samples_split = min_samples_split  # Số mẫu tối thiểu để chia nhỏ một nút\n",
    "        self.Ntrain = 0  # Số lượng mẫu trong tập huấn luyện\n",
    "        self.min_gain = min_gain  # Mức gain tối thiểu để chia nhỏ tiếp tục\n",
    "        self.max_bin = max_bin # Số lượng ngưỡng tối đa để phân chia dữ liệu liên tục\n",
    "    \n",
    "    def fit(self, data, target):\n",
    "        self.Ntrain = data.count()[0]  # Đếm số lượng mẫu trong tập dữ liệu\n",
    "        self.data = data  \n",
    "        self.attributes = list(data)  # Lấy danh sách các thuộc tính\n",
    "        self.target = target  \n",
    "        self.labels = target.unique()  # Lấy các nhãn mục tiêu duy nhất\n",
    "        \n",
    "        ids = range(self.Ntrain)  # Tạo danh sách các chỉ số mẫu dữ liệu\n",
    "        self.root = TreeNode(ids=ids, entropy=self._entropy(ids), depth=0)  # Tạo nút gốc với toàn bộ dữ liệu\n",
    "        queue = [self.root]  \n",
    "        while queue:\n",
    "            node = queue.pop()  \n",
    "            # Nếu chưa đạt tới độ sâu giới hạn hoặc entropy vẫn lớn hơn mức thông tin nhỏ nhất để chia\n",
    "            if node.depth < self.max_depth or node.entropy < self.min_gain:\n",
    "                node.children = self._split(node)  \n",
    "                if not node.children:  # Nếu không có nút con, đặt nhãn cho nút\n",
    "                    self._set_label(node)\n",
    "                queue += node.children  # Thêm các nút con vào hàng đợi\n",
    "            else:\n",
    "                self._set_label(node)  # Nếu không thể chia nhỏ thêm, đặt nhãn cho nút\n",
    "                \n",
    "    def _entropy(self, ids):\n",
    "        if len(ids) == 0:\n",
    "            return 0\n",
    "        freq = np.array(self.target.iloc[ids].value_counts())  # Đếm tần số của các nhãn mục tiêu\n",
    "        return entropy(freq)  # Tính entropy dựa trên tần số\n",
    "    \n",
    "    def _set_label(self, node):\n",
    "        target_ids = node.ids\n",
    "        node.set_label(self.target.iloc[target_ids].mode()[0])  # Đặt nhãn cho nút lá bằng giá trị mode của các nhãn mục tiêu\n",
    "    \n",
    "    def _split(self, node):\n",
    "        ids = node.ids  # Lấy danh sách các chỉ số dữ liệu trong nút hiện tại\n",
    "        best_gain = 0  \n",
    "        best_splits = []  # Khởi tạo danh sách các cách chia nhỏ tốt nhất\n",
    "        best_attribute = None \n",
    "        order = None  \n",
    "        sub_data = self.data.iloc[ids, :]  # Lấy tập dữ liệu con tương ứng với các chỉ số dữ liệu của nút hiện tại\n",
    "\n",
    "        for i, att in enumerate(self.attributes):  # Duyệt qua từng đặc trưng \n",
    "            values = sub_data[att].unique()  \n",
    "            if len(values) == 1:  # Nếu đặc trưng chỉ có một giá trị duy nhất, bỏ qua đặc trưng này\n",
    "                continue\n",
    "            if np.issubdtype(values.dtype, np.number):  # Kiểm tra nếu thuộc tính là liên tục\n",
    "                # Lấy các ngưỡng chia \n",
    "                sorted_values = np.sort(values)\n",
    "                thresholds = [(sorted_values[j] + sorted_values[j + 1]) / 2 for j in range(len(sorted_values) - 1)]\n",
    "                # Giới hạn ngưỡng chia\n",
    "                if len(thresholds) > self.max_bin:\n",
    "                    thresholds = np.random.choice(thresholds, self.max_bin, replace=False)\n",
    "                    \n",
    "                for threshold in thresholds:  # Duyệt qua các ngưỡng để kiểm tra\n",
    "                    splits = [\n",
    "                        [self.data.index.get_loc(idx) for idx in sub_data.index[sub_data[att] <= threshold]],  # Dữ liệu có giá trị <= ngưỡng\n",
    "                        [self.data.index.get_loc(idx) for idx in sub_data.index[sub_data[att] > threshold]]  # Dữ liệu có giá trị > ngưỡng\n",
    "                    ]\n",
    "                    if min(map(len, splits)) < self.min_samples_split:  # Kiểm tra nếu một trong các cách chia nhỏ có số lượng mẫu nhỏ hơn min_samples_split\n",
    "                        continue\n",
    "                    HxS = 0  # Khởi tạo tổng entropy có trọng số\n",
    "                    for split in splits:  \n",
    "                        HxS += len(split) * self._entropy(split) / len(ids)  # Tính entropy có trọng số của cách chia nhỏ hiện tại\n",
    "                    gain = node.entropy - HxS  # Tính gain cho cách chia nhỏ hiện tại\n",
    "                    if gain < self.min_gain:  \n",
    "                        continue\n",
    "                    if gain > best_gain:  \n",
    "                        best_gain = gain\n",
    "                        best_splits = splits\n",
    "                        best_attribute = att\n",
    "                        order = [f\"<= {threshold}\", f\"> {threshold}\"]\n",
    "            else:  # Xử lý các thuộc tính categorical\n",
    "                splits = []  \n",
    "                for val in values:  \n",
    "                    sub_ids = sub_data.index[sub_data[att] == val].tolist()  # Lấy danh sách các chỉ số dữ liệu có giá trị hiện tại của đặc trưng\n",
    "                    splits.append([self.data.index.get_loc(idx) for idx in sub_ids])  # Thêm danh sách chỉ số vào danh sách các cách chia nhỏ\n",
    "                if min(map(len, splits)) < self.min_samples_split:  \n",
    "                    continue\n",
    "                HxS = 0  # Khởi tạo tổng entropy có trọng số\n",
    "                for split in splits:  # Duyệt qua từng cách chia nhỏ\n",
    "                    HxS += len(split) * self._entropy(split) / len(ids)  # Tính entropy có trọng số của cách chia nhỏ hiện tại\n",
    "                gain = node.entropy - HxS  # Tính gain cho cách chia nhỏ hiện tại\n",
    "                if gain < self.min_gain:  \n",
    "                    continue\n",
    "                if gain > best_gain:  \n",
    "                    best_gain = gain\n",
    "                    best_splits = splits\n",
    "                    best_attribute = att\n",
    "                    order = values\n",
    "                    \n",
    "        node.set_properties(best_attribute, order)  # Thiết lập thuộc tính chia nhỏ và thứ tự giá trị tốt nhất cho nút hiện tại\n",
    "        child_nodes = [\n",
    "            TreeNode(ids=split, entropy=self._entropy(split), depth=node.depth + 1)  \n",
    "            for split in best_splits\n",
    "        ]\n",
    "        return child_nodes  # Trả về danh sách các nút con\n",
    "\n",
    "\n",
    "    def predict(self, new_data):\n",
    "        \"\"\"\n",
    "        :param new_data: a new dataframe, each row is a datapoint\n",
    "        :return: predicted labels for each row\n",
    "        \"\"\"\n",
    "        npoints = new_data.count()[0]\n",
    "        labels = [None] * npoints\n",
    "        for n in range(npoints):\n",
    "            x = new_data.iloc[n, :]  # Lấy một điểm dữ liệu \n",
    "            node = self.root\n",
    "            while node.children:\n",
    "                if isinstance(node.order[0], str) and \"<=\" in node.order[0]:  # Kiểm tra nếu thuộc tính là liên tục\n",
    "                    threshold = float(node.order[0].split(\" \")[1])  # Tách ngưỡng từ chuỗi\n",
    "                    if x[node.split_attribute] <= threshold:\n",
    "                        node = node.children[0]  # Đi xuống nhánh trái nếu giá trị nhỏ hơn hoặc bằng ngưỡng\n",
    "                    else:\n",
    "                        node = node.children[1]  # Đi xuống nhánh phải nếu giá trị lớn hơn ngưỡng\n",
    "                else:\n",
    "                    node = node.children[node.order.index(x[node.split_attribute])]  # Xử lý thuộc tính categorical\n",
    "            labels[n] = node.label  \n",
    "            \n",
    "        return labels  \n"
   ]
  },
  {
   "cell_type": "markdown",
   "metadata": {},
   "source": [
    "### Phân tích và đánh giá kết quả"
   ]
  },
  {
   "cell_type": "markdown",
   "metadata": {},
   "source": [
    "Trong phần này, vì dữ liệu bị mất cân bằng (71% mang nhãn 0 và 29% mang nhãn 1) nên nhóm sẽ sử dụng 2 chỉ số khác nhau để đo lường độ chính xác của mô hình:\n",
    "* Accuracy: tỷ lệ số lượng dự đoán đúng trên tổng số dự đoán\n",
    "\\begin{align*}\n",
    "accuracy = \\frac{TP+TN}{TP+TN+FP+FN}\n",
    "\\end{align*}\n",
    "* F1 Score:\n",
    "\\begin{align*}\n",
    "f1_score = 2\\cdot\\frac{precision\\cdot recall}{precision+recall}\n",
    "\\end{align*}\n",
    "Trong đó precison là thước đo mức độ chính xác của các dự đoán dương tính của mô hình: $precision=\\frac{TP}{TP+FP}$.\n",
    "Và recall là thước đo mức độ đầy đủ của các dự đoán dương tính của mô hình $recall=\\frac{TP}{TP+FN}$.\n",
    "\n",
    "Trong các công thức trên\n",
    "* TP: True Positives (Số lượng dự đoán đúng mà thực tế cũng đúng)\n",
    "\n",
    "* TN: True Negatives (Số lượng dự đoán sai mà thực tế cũng sai)\n",
    "\n",
    "* FP: False Positives (Số lượng dự đoán đúng mà thực tế sai)\n",
    "\n",
    "* FN: False Negatives (Số lượng dự đoán sai mà thực tế đúng)"
   ]
  },
  {
   "cell_type": "markdown",
   "metadata": {},
   "source": [
    "Ngoài ra, nhóm cũng sẽ xem xét tác động của các siêu tham số được đưa vào và vai trò của nó trong giảm thiểu overfitting"
   ]
  },
  {
   "cell_type": "markdown",
   "metadata": {},
   "source": [
    "#### Đánh giá độ chính xác của mô hình"
   ]
  },
  {
   "cell_type": "markdown",
   "metadata": {},
   "source": [
    "Trước hết ta xem xét độ chính xác của mô hình sử dụng các siêu tham số mặc định"
   ]
  },
  {
   "cell_type": "code",
   "execution_count": 14,
   "metadata": {},
   "outputs": [
    {
     "name": "stdout",
     "output_type": "stream",
     "text": [
      "CPU times: total: 2min 20s\n",
      "Wall time: 5min 52s\n"
     ]
    }
   ],
   "source": [
    "%%time\n",
    "tree = DecisionTreeID3()\n",
    "tree.fit(X_train, y_train)"
   ]
  },
  {
   "cell_type": "markdown",
   "metadata": {},
   "source": [
    "Bây giờ ta xem xét 2 chỉ số là accuracy và f1 score trên bộ test."
   ]
  },
  {
   "cell_type": "code",
   "execution_count": 15,
   "metadata": {},
   "outputs": [
    {
     "data": {
      "text/plain": [
       "0.885024154589372"
      ]
     },
     "execution_count": 15,
     "metadata": {},
     "output_type": "execute_result"
    }
   ],
   "source": [
    "y_pred = tree.predict(X_test)\n",
    "accuracy_score(y_test, y_pred)"
   ]
  },
  {
   "cell_type": "code",
   "execution_count": 16,
   "metadata": {},
   "outputs": [
    {
     "data": {
      "text/plain": [
       "0.8272859216255443"
      ]
     },
     "execution_count": 16,
     "metadata": {},
     "output_type": "execute_result"
    }
   ],
   "source": [
    "f1_score(y_test, y_pred)"
   ]
  },
  {
   "cell_type": "markdown",
   "metadata": {},
   "source": [
    "Accuracy khá cao (88.5%) nhưng điều tốt hơn cả là f1 score cũng cao (82.7%), điều này đặc biệt có ý nghĩa khi phân bố nhãn ban đầu là không cân bằng, cho thấy mô hình của nhóm hoạt động tốt ngay cả khi dữ liệu bị mất cân bằng, nghĩa là mô hình không bỏ sót quá nhiều nhãn 1 (Recall cao) và đồng thời không dự đoán nhãn 1 quá nhiều sai (Precision cao)."
   ]
  },
  {
   "cell_type": "markdown",
   "metadata": {},
   "source": [
    "#### Sự tác động của các siêu tham số vào mô hình"
   ]
  },
  {
   "cell_type": "markdown",
   "metadata": {},
   "source": [
    "Để xem xét sự tác động của các siêu tham số và mô hình, ta sẽ xem xét chỉ số f1 trên bộ dữ liệu train và test. Với bộ dữ liệu train, ta sẽ chia thành 2 phần train và valid, trong đó tập validation để điều chỉnh siêu tham số tránh quá khớp."
   ]
  },
  {
   "cell_type": "code",
   "execution_count": 15,
   "metadata": {},
   "outputs": [],
   "source": [
    "X_train1, X_valid1, y_train1, y_valid1 = train_test_split(X_train, y_train, test_size=0.2, random_state=42)"
   ]
  },
  {
   "cell_type": "code",
   "execution_count": 16,
   "metadata": {},
   "outputs": [
    {
     "data": {
      "text/plain": [
       "(4136, 3308, 828, 1035)"
      ]
     },
     "execution_count": 16,
     "metadata": {},
     "output_type": "execute_result"
    }
   ],
   "source": [
    "len(X_train), len(X_train1), len(X_valid1), len(X_test)"
   ]
  },
  {
   "cell_type": "code",
   "execution_count": 20,
   "metadata": {},
   "outputs": [
    {
     "name": "stdout",
     "output_type": "stream",
     "text": [
      "Test max_depth=3 successfully.\n",
      "Test max_depth=4 successfully.\n",
      "Test max_depth=5 successfully.\n",
      "Test max_depth=6 successfully.\n",
      "Test max_depth=7 successfully.\n",
      "Test max_depth=8 successfully.\n",
      "Test max_depth=9 successfully.\n",
      "Test max_depth=10 successfully.\n",
      "Test max_depth=12 successfully.\n",
      "Test max_depth=14 successfully.\n",
      "Test max_depth=16 successfully.\n",
      "Test max_depth=18 successfully.\n",
      "Test max_depth=20 successfully.\n",
      "Test max_depth=22 successfully.\n",
      "Test max_depth=25 successfully.\n"
     ]
    },
    {
     "data": {
      "text/plain": [
       "Text(0.5, 1.0, 'F1 Score for max depth')"
      ]
     },
     "execution_count": 20,
     "metadata": {},
     "output_type": "execute_result"
    },
    {
     "data": {
      "image/png": "[encoded data removed]",
      "text/plain": [
       "<Figure size 640x480 with 1 Axes>"
      ]
     },
     "metadata": {},
     "output_type": "display_data"
    }
   ],
   "source": [
    "train_scores = []\n",
    "valid_scores = []\n",
    "max_depth_values = [3, 4, 5, 6, 7, 8, 9, 10, 12, 14, 16, 18, 20, 22, 25]\n",
    "\n",
    "for min_samples_split in max_depth_values:\n",
    "    tree = DecisionTreeID3(max_depth=min_samples_split)\n",
    "    tree.fit(X_train1, y_train1)\n",
    "    # train score\n",
    "    y_pred = tree.predict(X_train1)\n",
    "    train_scores.append(f1_score(y_train1, y_pred))\n",
    "    # val score\n",
    "    y_pred = tree.predict(X_valid1)\n",
    "    valid_scores.append(f1_score(y_valid1, y_pred))\n",
    "    print(f\"Test max_depth={min_samples_split} successfully.\")\n",
    "   \n",
    "# Plot\n",
    "plt.plot(max_depth_values, train_scores, label='train')\n",
    "plt.plot(max_depth_values, valid_scores, label='validation')\n",
    "plt.legend()\n",
    "plt.xlabel('max depth')\n",
    "plt.ylabel('f1 score')\n",
    "plt.title('F1 Score for max depth')"
   ]
  },
  {
   "cell_type": "code",
   "execution_count": 21,
   "metadata": {},
   "outputs": [
    {
     "data": {
      "text/html": [
       "<style type=\"text/css\">\n",
       "#T_de887_row0_col0, #T_de887_row0_col1 {\n",
       "  background-color: #00ffff;\n",
       "  color: #000000;\n",
       "}\n",
       "#T_de887_row1_col0 {\n",
       "  background-color: #35caff;\n",
       "  color: #000000;\n",
       "}\n",
       "#T_de887_row1_col1 {\n",
       "  background-color: #45baff;\n",
       "  color: #000000;\n",
       "}\n",
       "#T_de887_row2_col0 {\n",
       "  background-color: #4db2ff;\n",
       "  color: #f1f1f1;\n",
       "}\n",
       "#T_de887_row2_col1 {\n",
       "  background-color: #6699ff;\n",
       "  color: #f1f1f1;\n",
       "}\n",
       "#T_de887_row3_col0 {\n",
       "  background-color: #6a95ff;\n",
       "  color: #f1f1f1;\n",
       "}\n",
       "#T_de887_row3_col1 {\n",
       "  background-color: #8a75ff;\n",
       "  color: #f1f1f1;\n",
       "}\n",
       "#T_de887_row4_col0 {\n",
       "  background-color: #748bff;\n",
       "  color: #f1f1f1;\n",
       "}\n",
       "#T_de887_row4_col1 {\n",
       "  background-color: #817eff;\n",
       "  color: #f1f1f1;\n",
       "}\n",
       "#T_de887_row5_col0, #T_de887_row7_col1 {\n",
       "  background-color: #9669ff;\n",
       "  color: #f1f1f1;\n",
       "}\n",
       "#T_de887_row5_col1 {\n",
       "  background-color: #b847ff;\n",
       "  color: #f1f1f1;\n",
       "}\n",
       "#T_de887_row6_col0 {\n",
       "  background-color: #ae51ff;\n",
       "  color: #f1f1f1;\n",
       "}\n",
       "#T_de887_row6_col1 {\n",
       "  background-color: #ad52ff;\n",
       "  color: #f1f1f1;\n",
       "}\n",
       "#T_de887_row7_col0 {\n",
       "  background-color: #b649ff;\n",
       "  color: #f1f1f1;\n",
       "}\n",
       "#T_de887_row8_col0 {\n",
       "  background-color: #d827ff;\n",
       "  color: #f1f1f1;\n",
       "}\n",
       "#T_de887_row8_col1 {\n",
       "  background-color: #eb14ff;\n",
       "  color: #f1f1f1;\n",
       "}\n",
       "#T_de887_row9_col0 {\n",
       "  background-color: #d32cff;\n",
       "  color: #f1f1f1;\n",
       "}\n",
       "#T_de887_row9_col1 {\n",
       "  background-color: #db24ff;\n",
       "  color: #f1f1f1;\n",
       "}\n",
       "#T_de887_row10_col0 {\n",
       "  background-color: #ec13ff;\n",
       "  color: #f1f1f1;\n",
       "}\n",
       "#T_de887_row10_col1, #T_de887_row13_col0, #T_de887_row14_col0 {\n",
       "  background-color: #ff00ff;\n",
       "  color: #f1f1f1;\n",
       "}\n",
       "#T_de887_row11_col0 {\n",
       "  background-color: #fc03ff;\n",
       "  color: #f1f1f1;\n",
       "}\n",
       "#T_de887_row11_col1 {\n",
       "  background-color: #f609ff;\n",
       "  color: #f1f1f1;\n",
       "}\n",
       "#T_de887_row12_col0 {\n",
       "  background-color: #f906ff;\n",
       "  color: #f1f1f1;\n",
       "}\n",
       "#T_de887_row12_col1 {\n",
       "  background-color: #f30cff;\n",
       "  color: #f1f1f1;\n",
       "}\n",
       "#T_de887_row13_col1 {\n",
       "  background-color: #fe01ff;\n",
       "  color: #f1f1f1;\n",
       "}\n",
       "#T_de887_row14_col1 {\n",
       "  background-color: #f807ff;\n",
       "  color: #f1f1f1;\n",
       "}\n",
       "</style>\n",
       "<table id=\"T_de887\">\n",
       "  <thead>\n",
       "    <tr>\n",
       "      <th class=\"blank level0\" >&nbsp;</th>\n",
       "      <th id=\"T_de887_level0_col0\" class=\"col_heading level0 col0\" >train f1 score</th>\n",
       "      <th id=\"T_de887_level0_col1\" class=\"col_heading level0 col1\" >validation f1 score</th>\n",
       "    </tr>\n",
       "  </thead>\n",
       "  <tbody>\n",
       "    <tr>\n",
       "      <th id=\"T_de887_level0_row0\" class=\"row_heading level0 row0\" >3</th>\n",
       "      <td id=\"T_de887_row0_col0\" class=\"data row0 col0\" >0.684155</td>\n",
       "      <td id=\"T_de887_row0_col1\" class=\"data row0 col1\" >0.708824</td>\n",
       "    </tr>\n",
       "    <tr>\n",
       "      <th id=\"T_de887_level0_row1\" class=\"row_heading level0 row1\" >4</th>\n",
       "      <td id=\"T_de887_row1_col0\" class=\"data row1 col0\" >0.739164</td>\n",
       "      <td id=\"T_de887_row1_col1\" class=\"data row1 col1\" >0.758842</td>\n",
       "    </tr>\n",
       "    <tr>\n",
       "      <th id=\"T_de887_level0_row2\" class=\"row_heading level0 row2\" >5</th>\n",
       "      <td id=\"T_de887_row2_col0\" class=\"data row2 col0\" >0.763695</td>\n",
       "      <td id=\"T_de887_row2_col1\" class=\"data row2 col1\" >0.782753</td>\n",
       "    </tr>\n",
       "    <tr>\n",
       "      <th id=\"T_de887_level0_row3\" class=\"row_heading level0 row3\" >6</th>\n",
       "      <td id=\"T_de887_row3_col0\" class=\"data row3 col0\" >0.793361</td>\n",
       "      <td id=\"T_de887_row3_col1\" class=\"data row3 col1\" >0.808874</td>\n",
       "    </tr>\n",
       "    <tr>\n",
       "      <th id=\"T_de887_level0_row4\" class=\"row_heading level0 row4\" >7</th>\n",
       "      <td id=\"T_de887_row4_col0\" class=\"data row4 col0\" >0.803411</td>\n",
       "      <td id=\"T_de887_row4_col1\" class=\"data row4 col1\" >0.802281</td>\n",
       "    </tr>\n",
       "    <tr>\n",
       "      <th id=\"T_de887_level0_row5\" class=\"row_heading level0 row5\" >8</th>\n",
       "      <td id=\"T_de887_row5_col0\" class=\"data row5 col0\" >0.838307</td>\n",
       "      <td id=\"T_de887_row5_col1\" class=\"data row5 col1\" >0.841912</td>\n",
       "    </tr>\n",
       "    <tr>\n",
       "      <th id=\"T_de887_level0_row6\" class=\"row_heading level0 row6\" >9</th>\n",
       "      <td id=\"T_de887_row6_col0\" class=\"data row6 col0\" >0.863378</td>\n",
       "      <td id=\"T_de887_row6_col1\" class=\"data row6 col1\" >0.834286</td>\n",
       "    </tr>\n",
       "    <tr>\n",
       "      <th id=\"T_de887_level0_row7\" class=\"row_heading level0 row7\" >10</th>\n",
       "      <td id=\"T_de887_row7_col0\" class=\"data row7 col0\" >0.871524</td>\n",
       "      <td id=\"T_de887_row7_col1\" class=\"data row7 col1\" >0.817121</td>\n",
       "    </tr>\n",
       "    <tr>\n",
       "      <th id=\"T_de887_level0_row8\" class=\"row_heading level0 row8\" >12</th>\n",
       "      <td id=\"T_de887_row8_col0\" class=\"data row8 col0\" >0.906399</td>\n",
       "      <td id=\"T_de887_row8_col1\" class=\"data row8 col1\" >0.879079</td>\n",
       "    </tr>\n",
       "    <tr>\n",
       "      <th id=\"T_de887_level0_row9\" class=\"row_heading level0 row9\" >14</th>\n",
       "      <td id=\"T_de887_row9_col0\" class=\"data row9 col0\" >0.900394</td>\n",
       "      <td id=\"T_de887_row9_col1\" class=\"data row9 col1\" >0.867470</td>\n",
       "    </tr>\n",
       "    <tr>\n",
       "      <th id=\"T_de887_level0_row10\" class=\"row_heading level0 row10\" >16</th>\n",
       "      <td id=\"T_de887_row10_col0\" class=\"data row10 col0\" >0.926972</td>\n",
       "      <td id=\"T_de887_row10_col1\" class=\"data row10 col1\" >0.893617</td>\n",
       "    </tr>\n",
       "    <tr>\n",
       "      <th id=\"T_de887_level0_row11\" class=\"row_heading level0 row11\" >18</th>\n",
       "      <td id=\"T_de887_row11_col0\" class=\"data row11 col0\" >0.942857</td>\n",
       "      <td id=\"T_de887_row11_col1\" class=\"data row11 col1\" >0.886680</td>\n",
       "    </tr>\n",
       "    <tr>\n",
       "      <th id=\"T_de887_level0_row12\" class=\"row_heading level0 row12\" >20</th>\n",
       "      <td id=\"T_de887_row12_col0\" class=\"data row12 col0\" >0.939379</td>\n",
       "      <td id=\"T_de887_row12_col1\" class=\"data row12 col1\" >0.884462</td>\n",
       "    </tr>\n",
       "    <tr>\n",
       "      <th id=\"T_de887_level0_row13\" class=\"row_heading level0 row13\" >22</th>\n",
       "      <td id=\"T_de887_row13_col0\" class=\"data row13 col0\" >0.945813</td>\n",
       "      <td id=\"T_de887_row13_col1\" class=\"data row13 col1\" >0.892857</td>\n",
       "    </tr>\n",
       "    <tr>\n",
       "      <th id=\"T_de887_level0_row14\" class=\"row_heading level0 row14\" >25</th>\n",
       "      <td id=\"T_de887_row14_col0\" class=\"data row14 col0\" >0.946473</td>\n",
       "      <td id=\"T_de887_row14_col1\" class=\"data row14 col1\" >0.888438</td>\n",
       "    </tr>\n",
       "  </tbody>\n",
       "</table>\n"
      ],
      "text/plain": [
       "<pandas.io.formats.style.Styler at 0x2127607ae50>"
      ]
     },
     "execution_count": 21,
     "metadata": {},
     "output_type": "execute_result"
    }
   ],
   "source": [
    "scores = {\n",
    "    'train f1 score': train_scores,\n",
    "    'validation f1 score': valid_scores\n",
    "}\n",
    "\n",
    "df = pd.DataFrame(scores, index=max_depth_values)\n",
    "df.style.background_gradient('cool')"
   ]
  },
  {
   "cell_type": "markdown",
   "metadata": {},
   "source": [
    "Có thể thấy khi `max_depth>=16`, khi f1 score của train set tăng thì f1 score của validation set giảm, vì vậy nếu tăng tiếp `max_depth` có thể gặp overfitting. Từ bảng ta cũng có thể thấy có vè `max_depth=16` là giá trị mang lại f1 score cao nhất trên tập validation nhưng score trên tập train không phải cao nhất."
   ]
  },
  {
   "cell_type": "markdown",
   "metadata": {},
   "source": [
    "Ta thử f1 score của train, validation và test set khi `max_depth=16`"
   ]
  },
  {
   "cell_type": "code",
   "execution_count": 17,
   "metadata": {},
   "outputs": [],
   "source": [
    "tree = DecisionTreeID3(max_depth=16)\n",
    "tree.fit(X_train1, y_train1)"
   ]
  },
  {
   "cell_type": "code",
   "execution_count": 22,
   "metadata": {},
   "outputs": [
    {
     "name": "stdout",
     "output_type": "stream",
     "text": [
      "Accuracy: 0.9227053140096618, F1 Score: 0.8726114649681529\n"
     ]
    }
   ],
   "source": [
    "y_pred = tree.predict(X_test)\n",
    "acc = accuracy_score(y_test, y_pred)\n",
    "f1 = f1_score(y_test, y_pred)\n",
    "print(f\"Accuracy: {acc}, F1 Score: {f1}\")"
   ]
  },
  {
   "cell_type": "markdown",
   "metadata": {},
   "source": [
    "Như vậy sử dụng tham số `max_depth=16` so với `max_depth=8` (mặc định) đã giúp tăng F1 Score trên bộ dữ liêu test từ 82.7% lên tới 87.3%. Do vậy, có thể thấy siêu tham số `max_depth` đóng vai trò quan trọng trong việc tăng độ chính xác trên bộ dữ liệu huấn luyện và kiểm tra. Tuy vậy nếu `max_depth` quá cao thì sẽ dẫn tới tình trạng overfitting."
   ]
  },
  {
   "cell_type": "markdown",
   "metadata": {},
   "source": [
    "Ngoài ra, khi điều chỉnh các siêu tham số khác cũng cho các kết quả khác nhau. Ví dụ dưới đây là khi điều chỉnh tham số `min_samples_split` (số lượng mẫu nhỏ nhất để được phép chia node)"
   ]
  },
  {
   "cell_type": "code",
   "execution_count": 26,
   "metadata": {},
   "outputs": [
    {
     "name": "stdout",
     "output_type": "stream",
     "text": [
      "Test min_samples_split=2 successfully.\n",
      "Test min_samples_split=5 successfully.\n",
      "Test min_samples_split=8 successfully.\n",
      "Test min_samples_split=11 successfully.\n",
      "Test min_samples_split=15 successfully.\n"
     ]
    },
    {
     "data": {
      "text/plain": [
       "Text(0.5, 1.0, 'F1 Score for min samples split & max depth = 16')"
      ]
     },
     "execution_count": 26,
     "metadata": {},
     "output_type": "execute_result"
    },
    {
     "data": {
      "image/png": "[encoded data removed]",
      "text/plain": [
       "<Figure size 640x480 with 1 Axes>"
      ]
     },
     "metadata": {},
     "output_type": "display_data"
    }
   ],
   "source": [
    "train_scores = []\n",
    "valid_scores = []\n",
    "min_samples_split_values = [2, 5, 8, 11, 15]\n",
    "\n",
    "for min_samples_split in min_samples_split_values:\n",
    "    tree = DecisionTreeID3(min_samples_split=min_samples_split, max_depth=16)\n",
    "    tree.fit(X_train1, y_train1)\n",
    "    # train score\n",
    "    y_pred = tree.predict(X_train1)\n",
    "    train_scores.append(f1_score(y_train1, y_pred))\n",
    "    # val score\n",
    "    y_pred = tree.predict(X_valid1)\n",
    "    valid_scores.append(f1_score(y_valid1, y_pred))\n",
    "    print(f\"Test min_samples_split={min_samples_split} successfully.\")\n",
    "   \n",
    "# Plot\n",
    "plt.plot(min_samples_split_values, train_scores, label='train')\n",
    "plt.plot(min_samples_split_values, valid_scores, label='validation')\n",
    "plt.legend()\n",
    "plt.xlabel('min samples split')\n",
    "plt.ylabel('f1 score')\n",
    "plt.title('F1 Score for min samples split & max depth = 16')"
   ]
  },
  {
   "cell_type": "code",
   "execution_count": 27,
   "metadata": {},
   "outputs": [
    {
     "data": {
      "text/html": [
       "<style type=\"text/css\">\n",
       "#T_2e3ea_row0_col0, #T_2e3ea_row1_col1 {\n",
       "  background-color: #ff00ff;\n",
       "  color: #f1f1f1;\n",
       "}\n",
       "#T_2e3ea_row0_col1 {\n",
       "  background-color: #936cff;\n",
       "  color: #f1f1f1;\n",
       "}\n",
       "#T_2e3ea_row1_col0 {\n",
       "  background-color: #c13eff;\n",
       "  color: #f1f1f1;\n",
       "}\n",
       "#T_2e3ea_row2_col0 {\n",
       "  background-color: #916eff;\n",
       "  color: #f1f1f1;\n",
       "}\n",
       "#T_2e3ea_row2_col1 {\n",
       "  background-color: #6a95ff;\n",
       "  color: #f1f1f1;\n",
       "}\n",
       "#T_2e3ea_row3_col0 {\n",
       "  background-color: #18e7ff;\n",
       "  color: #000000;\n",
       "}\n",
       "#T_2e3ea_row3_col1 {\n",
       "  background-color: #7887ff;\n",
       "  color: #f1f1f1;\n",
       "}\n",
       "#T_2e3ea_row4_col0, #T_2e3ea_row4_col1 {\n",
       "  background-color: #00ffff;\n",
       "  color: #000000;\n",
       "}\n",
       "</style>\n",
       "<table id=\"T_2e3ea\">\n",
       "  <thead>\n",
       "    <tr>\n",
       "      <th class=\"blank level0\" >&nbsp;</th>\n",
       "      <th id=\"T_2e3ea_level0_col0\" class=\"col_heading level0 col0\" >train f1 score</th>\n",
       "      <th id=\"T_2e3ea_level0_col1\" class=\"col_heading level0 col1\" >validation f1 score</th>\n",
       "    </tr>\n",
       "  </thead>\n",
       "  <tbody>\n",
       "    <tr>\n",
       "      <th id=\"T_2e3ea_level0_row0\" class=\"row_heading level0 row0\" >2</th>\n",
       "      <td id=\"T_2e3ea_row0_col0\" class=\"data row0 col0\" >0.924378</td>\n",
       "      <td id=\"T_2e3ea_row0_col1\" class=\"data row0 col1\" >0.881890</td>\n",
       "    </tr>\n",
       "    <tr>\n",
       "      <th id=\"T_2e3ea_level0_row1\" class=\"row_heading level0 row1\" >5</th>\n",
       "      <td id=\"T_2e3ea_row1_col0\" class=\"data row1 col0\" >0.914622</td>\n",
       "      <td id=\"T_2e3ea_row1_col1\" class=\"data row1 col1\" >0.903353</td>\n",
       "    </tr>\n",
       "    <tr>\n",
       "      <th id=\"T_2e3ea_level0_row2\" class=\"row_heading level0 row2\" >8</th>\n",
       "      <td id=\"T_2e3ea_row2_col0\" class=\"data row2 col0\" >0.907011</td>\n",
       "      <td id=\"T_2e3ea_row2_col1\" class=\"data row2 col1\" >0.873747</td>\n",
       "    </tr>\n",
       "    <tr>\n",
       "      <th id=\"T_2e3ea_level0_row3\" class=\"row_heading level0 row3\" >11</th>\n",
       "      <td id=\"T_2e3ea_row3_col0\" class=\"data row3 col0\" >0.888031</td>\n",
       "      <td id=\"T_2e3ea_row3_col1\" class=\"data row3 col1\" >0.876448</td>\n",
       "    </tr>\n",
       "    <tr>\n",
       "      <th id=\"T_2e3ea_level0_row4\" class=\"row_heading level0 row4\" >15</th>\n",
       "      <td id=\"T_2e3ea_row4_col0\" class=\"data row4 col0\" >0.884116</td>\n",
       "      <td id=\"T_2e3ea_row4_col1\" class=\"data row4 col1\" >0.852525</td>\n",
       "    </tr>\n",
       "  </tbody>\n",
       "</table>\n"
      ],
      "text/plain": [
       "<pandas.io.formats.style.Styler at 0x1bef6cae150>"
      ]
     },
     "execution_count": 27,
     "metadata": {},
     "output_type": "execute_result"
    }
   ],
   "source": [
    "scores = {\n",
    "    'train f1 score': train_scores,\n",
    "    'validation f1 score': valid_scores\n",
    "}\n",
    "\n",
    "df = pd.DataFrame(scores, index=min_samples_split_values)\n",
    "df.style.background_gradient('cool')"
   ]
  },
  {
   "cell_type": "markdown",
   "metadata": {},
   "source": [
    "Như vậy ta chọn `min_samples_split=5` thì có thể tăng cao f1 score trên tập validation và bây giờ hãy xem xét trên tập test"
   ]
  },
  {
   "cell_type": "code",
   "execution_count": 28,
   "metadata": {},
   "outputs": [],
   "source": [
    "tree = DecisionTreeID3(max_depth=16, min_samples_split=5)\n",
    "tree.fit(X_train1, y_train1)"
   ]
  },
  {
   "cell_type": "code",
   "execution_count": 29,
   "metadata": {},
   "outputs": [
    {
     "name": "stdout",
     "output_type": "stream",
     "text": [
      "Accuracy: 0.9188405797101449, F1 Score: 0.8683385579937304\n"
     ]
    }
   ],
   "source": [
    "y_pred = tree.predict(X_test)\n",
    "acc = accuracy_score(y_test, y_pred)\n",
    "f1 = f1_score(y_test, y_pred)\n",
    "print(f\"Accuracy: {acc}, F1 Score: {f1}\")"
   ]
  },
  {
   "cell_type": "markdown",
   "metadata": {},
   "source": [
    "Như vậy, tuy f1 score trên tập validation tăng nhưng trên tập test lại giảm. Điều này có thể do tập validation không đại diện/ bao gồm đầy đủ các tình huống có thể xảy ra trong tập test (dữ liệu mới trong tương lai), hoặc tập validation khá trùng khớp với tập train. Để khắc phục có thể dùng cross validation hoặc thêm dữ liệu. Do khuôn khổ của project nên nhóm sẽ không trình bày ở trong báo cáo này."
   ]
  },
  {
   "cell_type": "markdown",
   "metadata": {},
   "source": [
    "#### Mô hình cuối cùng và so sánh với Decision Tree của sklearn"
   ]
  },
  {
   "cell_type": "markdown",
   "metadata": {},
   "source": [
    "Nhóm lựa chọn mô hình cuối cùng, với độ chính xác (f1 score) 87.3% trên tập test là"
   ]
  },
  {
   "cell_type": "code",
   "execution_count": 31,
   "metadata": {},
   "outputs": [],
   "source": [
    "tree = DecisionTreeID3(max_depth=16)"
   ]
  },
  {
   "cell_type": "markdown",
   "metadata": {},
   "source": [
    "Bây giờ ta xem xét độ chính xác của mô hình Decision Tree của sklearn."
   ]
  },
  {
   "cell_type": "code",
   "execution_count": 32,
   "metadata": {},
   "outputs": [],
   "source": [
    "from sklearn.tree import DecisionTreeClassifier\n",
    "sklearn_tree = DecisionTreeClassifier(max_depth=16, min_weight_fraction_leaf=1e-4)"
   ]
  },
  {
   "cell_type": "code",
   "execution_count": 33,
   "metadata": {},
   "outputs": [
    {
     "data": {
      "text/html": [
       "<style>#sk-container-id-1 {\n",
       "  /* Definition of color scheme common for light and dark mode */\n",
       "  --sklearn-color-text: black;\n",
       "  --sklearn-color-line: gray;\n",
       "  /* Definition of color scheme for unfitted estimators */\n",
       "  --sklearn-color-unfitted-level-0: #fff5e6;\n",
       "  --sklearn-color-unfitted-level-1: #f6e4d2;\n",
       "  --sklearn-color-unfitted-level-2: #ffe0b3;\n",
       "  --sklearn-color-unfitted-level-3: chocolate;\n",
       "  /* Definition of color scheme for fitted estimators */\n",
       "  --sklearn-color-fitted-level-0: #f0f8ff;\n",
       "  --sklearn-color-fitted-level-1: #d4ebff;\n",
       "  --sklearn-color-fitted-level-2: #b3dbfd;\n",
       "  --sklearn-color-fitted-level-3: cornflowerblue;\n",
       "\n",
       "  /* Specific color for light theme */\n",
       "  --sklearn-color-text-on-default-background: var(--sg-text-color, var(--theme-code-foreground, var(--jp-content-font-color1, black)));\n",
       "  --sklearn-color-background: var(--sg-background-color, var(--theme-background, var(--jp-layout-color0, white)));\n",
       "  --sklearn-color-border-box: var(--sg-text-color, var(--theme-code-foreground, var(--jp-content-font-color1, black)));\n",
       "  --sklearn-color-icon: #696969;\n",
       "\n",
       "  @media (prefers-color-scheme: dark) {\n",
       "    /* Redefinition of color scheme for dark theme */\n",
       "    --sklearn-color-text-on-default-background: var(--sg-text-color, var(--theme-code-foreground, var(--jp-content-font-color1, white)));\n",
       "    --sklearn-color-background: var(--sg-background-color, var(--theme-background, var(--jp-layout-color0, #111)));\n",
       "    --sklearn-color-border-box: var(--sg-text-color, var(--theme-code-foreground, var(--jp-content-font-color1, white)));\n",
       "    --sklearn-color-icon: #878787;\n",
       "  }\n",
       "}\n",
       "\n",
       "#sk-container-id-1 {\n",
       "  color: var(--sklearn-color-text);\n",
       "}\n",
       "\n",
       "#sk-container-id-1 pre {\n",
       "  padding: 0;\n",
       "}\n",
       "\n",
       "#sk-container-id-1 input.sk-hidden--visually {\n",
       "  border: 0;\n",
       "  clip: rect(1px 1px 1px 1px);\n",
       "  clip: rect(1px, 1px, 1px, 1px);\n",
       "  height: 1px;\n",
       "  margin: -1px;\n",
       "  overflow: hidden;\n",
       "  padding: 0;\n",
       "  position: absolute;\n",
       "  width: 1px;\n",
       "}\n",
       "\n",
       "#sk-container-id-1 div.sk-dashed-wrapped {\n",
       "  border: 1px dashed var(--sklearn-color-line);\n",
       "  margin: 0 0.4em 0.5em 0.4em;\n",
       "  box-sizing: border-box;\n",
       "  padding-bottom: 0.4em;\n",
       "  background-color: var(--sklearn-color-background);\n",
       "}\n",
       "\n",
       "#sk-container-id-1 div.sk-container {\n",
       "  /* jupyter's `normalize.less` sets `[hidden] { display: none; }`\n",
       "     but bootstrap.min.css set `[hidden] { display: none !important; }`\n",
       "     so we also need the `!important` here to be able to override the\n",
       "     default hidden behavior on the sphinx rendered scikit-learn.org.\n",
       "     See: https://github.com/scikit-learn/scikit-learn/issues/21755 */\n",
       "  display: inline-block !important;\n",
       "  position: relative;\n",
       "}\n",
       "\n",
       "#sk-container-id-1 div.sk-text-repr-fallback {\n",
       "  display: none;\n",
       "}\n",
       "\n",
       "div.sk-parallel-item,\n",
       "div.sk-serial,\n",
       "div.sk-item {\n",
       "  /* draw centered vertical line to link estimators */\n",
       "  background-image: linear-gradient(var(--sklearn-color-text-on-default-background), var(--sklearn-color-text-on-default-background));\n",
       "  background-size: 2px 100%;\n",
       "  background-repeat: no-repeat;\n",
       "  background-position: center center;\n",
       "}\n",
       "\n",
       "/* Parallel-specific style estimator block */\n",
       "\n",
       "#sk-container-id-1 div.sk-parallel-item::after {\n",
       "  content: \"\";\n",
       "  width: 100%;\n",
       "  border-bottom: 2px solid var(--sklearn-color-text-on-default-background);\n",
       "  flex-grow: 1;\n",
       "}\n",
       "\n",
       "#sk-container-id-1 div.sk-parallel {\n",
       "  display: flex;\n",
       "  align-items: stretch;\n",
       "  justify-content: center;\n",
       "  background-color: var(--sklearn-color-background);\n",
       "  position: relative;\n",
       "}\n",
       "\n",
       "#sk-container-id-1 div.sk-parallel-item {\n",
       "  display: flex;\n",
       "  flex-direction: column;\n",
       "}\n",
       "\n",
       "#sk-container-id-1 div.sk-parallel-item:first-child::after {\n",
       "  align-self: flex-end;\n",
       "  width: 50%;\n",
       "}\n",
       "\n",
       "#sk-container-id-1 div.sk-parallel-item:last-child::after {\n",
       "  align-self: flex-start;\n",
       "  width: 50%;\n",
       "}\n",
       "\n",
       "#sk-container-id-1 div.sk-parallel-item:only-child::after {\n",
       "  width: 0;\n",
       "}\n",
       "\n",
       "/* Serial-specific style estimator block */\n",
       "\n",
       "#sk-container-id-1 div.sk-serial {\n",
       "  display: flex;\n",
       "  flex-direction: column;\n",
       "  align-items: center;\n",
       "  background-color: var(--sklearn-color-background);\n",
       "  padding-right: 1em;\n",
       "  padding-left: 1em;\n",
       "}\n",
       "\n",
       "\n",
       "/* Toggleable style: style used for estimator/Pipeline/ColumnTransformer box that is\n",
       "clickable and can be expanded/collapsed.\n",
       "- Pipeline and ColumnTransformer use this feature and define the default style\n",
       "- Estimators will overwrite some part of the style using the `sk-estimator` class\n",
       "*/\n",
       "\n",
       "/* Pipeline and ColumnTransformer style (default) */\n",
       "\n",
       "#sk-container-id-1 div.sk-toggleable {\n",
       "  /* Default theme specific background. It is overwritten whether we have a\n",
       "  specific estimator or a Pipeline/ColumnTransformer */\n",
       "  background-color: var(--sklearn-color-background);\n",
       "}\n",
       "\n",
       "/* Toggleable label */\n",
       "#sk-container-id-1 label.sk-toggleable__label {\n",
       "  cursor: pointer;\n",
       "  display: block;\n",
       "  width: 100%;\n",
       "  margin-bottom: 0;\n",
       "  padding: 0.5em;\n",
       "  box-sizing: border-box;\n",
       "  text-align: center;\n",
       "}\n",
       "\n",
       "#sk-container-id-1 label.sk-toggleable__label-arrow:before {\n",
       "  /* Arrow on the left of the label */\n",
       "  content: \"▸\";\n",
       "  float: left;\n",
       "  margin-right: 0.25em;\n",
       "  color: var(--sklearn-color-icon);\n",
       "}\n",
       "\n",
       "#sk-container-id-1 label.sk-toggleable__label-arrow:hover:before {\n",
       "  color: var(--sklearn-color-text);\n",
       "}\n",
       "\n",
       "/* Toggleable content - dropdown */\n",
       "\n",
       "#sk-container-id-1 div.sk-toggleable__content {\n",
       "  max-height: 0;\n",
       "  max-width: 0;\n",
       "  overflow: hidden;\n",
       "  text-align: left;\n",
       "  /* unfitted */\n",
       "  background-color: var(--sklearn-color-unfitted-level-0);\n",
       "}\n",
       "\n",
       "#sk-container-id-1 div.sk-toggleable__content.fitted {\n",
       "  /* fitted */\n",
       "  background-color: var(--sklearn-color-fitted-level-0);\n",
       "}\n",
       "\n",
       "#sk-container-id-1 div.sk-toggleable__content pre {\n",
       "  margin: 0.2em;\n",
       "  border-radius: 0.25em;\n",
       "  color: var(--sklearn-color-text);\n",
       "  /* unfitted */\n",
       "  background-color: var(--sklearn-color-unfitted-level-0);\n",
       "}\n",
       "\n",
       "#sk-container-id-1 div.sk-toggleable__content.fitted pre {\n",
       "  /* unfitted */\n",
       "  background-color: var(--sklearn-color-fitted-level-0);\n",
       "}\n",
       "\n",
       "#sk-container-id-1 input.sk-toggleable__control:checked~div.sk-toggleable__content {\n",
       "  /* Expand drop-down */\n",
       "  max-height: 200px;\n",
       "  max-width: 100%;\n",
       "  overflow: auto;\n",
       "}\n",
       "\n",
       "#sk-container-id-1 input.sk-toggleable__control:checked~label.sk-toggleable__label-arrow:before {\n",
       "  content: \"▾\";\n",
       "}\n",
       "\n",
       "/* Pipeline/ColumnTransformer-specific style */\n",
       "\n",
       "#sk-container-id-1 div.sk-label input.sk-toggleable__control:checked~label.sk-toggleable__label {\n",
       "  color: var(--sklearn-color-text);\n",
       "  background-color: var(--sklearn-color-unfitted-level-2);\n",
       "}\n",
       "\n",
       "#sk-container-id-1 div.sk-label.fitted input.sk-toggleable__control:checked~label.sk-toggleable__label {\n",
       "  background-color: var(--sklearn-color-fitted-level-2);\n",
       "}\n",
       "\n",
       "/* Estimator-specific style */\n",
       "\n",
       "/* Colorize estimator box */\n",
       "#sk-container-id-1 div.sk-estimator input.sk-toggleable__control:checked~label.sk-toggleable__label {\n",
       "  /* unfitted */\n",
       "  background-color: var(--sklearn-color-unfitted-level-2);\n",
       "}\n",
       "\n",
       "#sk-container-id-1 div.sk-estimator.fitted input.sk-toggleable__control:checked~label.sk-toggleable__label {\n",
       "  /* fitted */\n",
       "  background-color: var(--sklearn-color-fitted-level-2);\n",
       "}\n",
       "\n",
       "#sk-container-id-1 div.sk-label label.sk-toggleable__label,\n",
       "#sk-container-id-1 div.sk-label label {\n",
       "  /* The background is the default theme color */\n",
       "  color: var(--sklearn-color-text-on-default-background);\n",
       "}\n",
       "\n",
       "/* On hover, darken the color of the background */\n",
       "#sk-container-id-1 div.sk-label:hover label.sk-toggleable__label {\n",
       "  color: var(--sklearn-color-text);\n",
       "  background-color: var(--sklearn-color-unfitted-level-2);\n",
       "}\n",
       "\n",
       "/* Label box, darken color on hover, fitted */\n",
       "#sk-container-id-1 div.sk-label.fitted:hover label.sk-toggleable__label.fitted {\n",
       "  color: var(--sklearn-color-text);\n",
       "  background-color: var(--sklearn-color-fitted-level-2);\n",
       "}\n",
       "\n",
       "/* Estimator label */\n",
       "\n",
       "#sk-container-id-1 div.sk-label label {\n",
       "  font-family: monospace;\n",
       "  font-weight: bold;\n",
       "  display: inline-block;\n",
       "  line-height: 1.2em;\n",
       "}\n",
       "\n",
       "#sk-container-id-1 div.sk-label-container {\n",
       "  text-align: center;\n",
       "}\n",
       "\n",
       "/* Estimator-specific */\n",
       "#sk-container-id-1 div.sk-estimator {\n",
       "  font-family: monospace;\n",
       "  border: 1px dotted var(--sklearn-color-border-box);\n",
       "  border-radius: 0.25em;\n",
       "  box-sizing: border-box;\n",
       "  margin-bottom: 0.5em;\n",
       "  /* unfitted */\n",
       "  background-color: var(--sklearn-color-unfitted-level-0);\n",
       "}\n",
       "\n",
       "#sk-container-id-1 div.sk-estimator.fitted {\n",
       "  /* fitted */\n",
       "  background-color: var(--sklearn-color-fitted-level-0);\n",
       "}\n",
       "\n",
       "/* on hover */\n",
       "#sk-container-id-1 div.sk-estimator:hover {\n",
       "  /* unfitted */\n",
       "  background-color: var(--sklearn-color-unfitted-level-2);\n",
       "}\n",
       "\n",
       "#sk-container-id-1 div.sk-estimator.fitted:hover {\n",
       "  /* fitted */\n",
       "  background-color: var(--sklearn-color-fitted-level-2);\n",
       "}\n",
       "\n",
       "/* Specification for estimator info (e.g. \"i\" and \"?\") */\n",
       "\n",
       "/* Common style for \"i\" and \"?\" */\n",
       "\n",
       ".sk-estimator-doc-link,\n",
       "a:link.sk-estimator-doc-link,\n",
       "a:visited.sk-estimator-doc-link {\n",
       "  float: right;\n",
       "  font-size: smaller;\n",
       "  line-height: 1em;\n",
       "  font-family: monospace;\n",
       "  background-color: var(--sklearn-color-background);\n",
       "  border-radius: 1em;\n",
       "  height: 1em;\n",
       "  width: 1em;\n",
       "  text-decoration: none !important;\n",
       "  margin-left: 1ex;\n",
       "  /* unfitted */\n",
       "  border: var(--sklearn-color-unfitted-level-1) 1pt solid;\n",
       "  color: var(--sklearn-color-unfitted-level-1);\n",
       "}\n",
       "\n",
       ".sk-estimator-doc-link.fitted,\n",
       "a:link.sk-estimator-doc-link.fitted,\n",
       "a:visited.sk-estimator-doc-link.fitted {\n",
       "  /* fitted */\n",
       "  border: var(--sklearn-color-fitted-level-1) 1pt solid;\n",
       "  color: var(--sklearn-color-fitted-level-1);\n",
       "}\n",
       "\n",
       "/* On hover */\n",
       "div.sk-estimator:hover .sk-estimator-doc-link:hover,\n",
       ".sk-estimator-doc-link:hover,\n",
       "div.sk-label-container:hover .sk-estimator-doc-link:hover,\n",
       ".sk-estimator-doc-link:hover {\n",
       "  /* unfitted */\n",
       "  background-color: var(--sklearn-color-unfitted-level-3);\n",
       "  color: var(--sklearn-color-background);\n",
       "  text-decoration: none;\n",
       "}\n",
       "\n",
       "div.sk-estimator.fitted:hover .sk-estimator-doc-link.fitted:hover,\n",
       ".sk-estimator-doc-link.fitted:hover,\n",
       "div.sk-label-container:hover .sk-estimator-doc-link.fitted:hover,\n",
       ".sk-estimator-doc-link.fitted:hover {\n",
       "  /* fitted */\n",
       "  background-color: var(--sklearn-color-fitted-level-3);\n",
       "  color: var(--sklearn-color-background);\n",
       "  text-decoration: none;\n",
       "}\n",
       "\n",
       "/* Span, style for the box shown on hovering the info icon */\n",
       ".sk-estimator-doc-link span {\n",
       "  display: none;\n",
       "  z-index: 9999;\n",
       "  position: relative;\n",
       "  font-weight: normal;\n",
       "  right: .2ex;\n",
       "  padding: .5ex;\n",
       "  margin: .5ex;\n",
       "  width: min-content;\n",
       "  min-width: 20ex;\n",
       "  max-width: 50ex;\n",
       "  color: var(--sklearn-color-text);\n",
       "  box-shadow: 2pt 2pt 4pt #999;\n",
       "  /* unfitted */\n",
       "  background: var(--sklearn-color-unfitted-level-0);\n",
       "  border: .5pt solid var(--sklearn-color-unfitted-level-3);\n",
       "}\n",
       "\n",
       ".sk-estimator-doc-link.fitted span {\n",
       "  /* fitted */\n",
       "  background: var(--sklearn-color-fitted-level-0);\n",
       "  border: var(--sklearn-color-fitted-level-3);\n",
       "}\n",
       "\n",
       ".sk-estimator-doc-link:hover span {\n",
       "  display: block;\n",
       "}\n",
       "\n",
       "/* \"?\"-specific style due to the `<a>` HTML tag */\n",
       "\n",
       "#sk-container-id-1 a.estimator_doc_link {\n",
       "  float: right;\n",
       "  font-size: 1rem;\n",
       "  line-height: 1em;\n",
       "  font-family: monospace;\n",
       "  background-color: var(--sklearn-color-background);\n",
       "  border-radius: 1rem;\n",
       "  height: 1rem;\n",
       "  width: 1rem;\n",
       "  text-decoration: none;\n",
       "  /* unfitted */\n",
       "  color: var(--sklearn-color-unfitted-level-1);\n",
       "  border: var(--sklearn-color-unfitted-level-1) 1pt solid;\n",
       "}\n",
       "\n",
       "#sk-container-id-1 a.estimator_doc_link.fitted {\n",
       "  /* fitted */\n",
       "  border: var(--sklearn-color-fitted-level-1) 1pt solid;\n",
       "  color: var(--sklearn-color-fitted-level-1);\n",
       "}\n",
       "\n",
       "/* On hover */\n",
       "#sk-container-id-1 a.estimator_doc_link:hover {\n",
       "  /* unfitted */\n",
       "  background-color: var(--sklearn-color-unfitted-level-3);\n",
       "  color: var(--sklearn-color-background);\n",
       "  text-decoration: none;\n",
       "}\n",
       "\n",
       "#sk-container-id-1 a.estimator_doc_link.fitted:hover {\n",
       "  /* fitted */\n",
       "  background-color: var(--sklearn-color-fitted-level-3);\n",
       "}\n",
       "</style><div id=\"sk-container-id-1\" class=\"sk-top-container\"><div class=\"sk-text-repr-fallback\"><pre>DecisionTreeClassifier(max_depth=16, min_weight_fraction_leaf=0.0001)</pre><b>In a Jupyter environment, please rerun this cell to show the HTML representation or trust the notebook. <br />On GitHub, the HTML representation is unable to render, please try loading this page with nbviewer.org.</b></div><div class=\"sk-container\" hidden><div class=\"sk-item\"><div class=\"sk-estimator fitted sk-toggleable\"><input class=\"sk-toggleable__control sk-hidden--visually\" id=\"sk-estimator-id-1\" type=\"checkbox\" checked><label for=\"sk-estimator-id-1\" class=\"sk-toggleable__label fitted sk-toggleable__label-arrow fitted\">&nbsp;&nbsp;DecisionTreeClassifier<a class=\"sk-estimator-doc-link fitted\" rel=\"noreferrer\" target=\"_blank\" href=\"https://scikit-learn.org/1.4/modules/generated/sklearn.tree.DecisionTreeClassifier.html\">?<span>Documentation for DecisionTreeClassifier</span></a><span class=\"sk-estimator-doc-link fitted\">i<span>Fitted</span></span></label><div class=\"sk-toggleable__content fitted\"><pre>DecisionTreeClassifier(max_depth=16, min_weight_fraction_leaf=0.0001)</pre></div> </div></div></div></div>"
      ],
      "text/plain": [
       "DecisionTreeClassifier(max_depth=16, min_weight_fraction_leaf=0.0001)"
      ]
     },
     "execution_count": 33,
     "metadata": {},
     "output_type": "execute_result"
    }
   ],
   "source": [
    "sklearn_tree.fit(X_train1, y_train1)"
   ]
  },
  {
   "cell_type": "code",
   "execution_count": 35,
   "metadata": {},
   "outputs": [
    {
     "name": "stdout",
     "output_type": "stream",
     "text": [
      "Train Set: Accuracy: 0.9682587666263603, F1 Score: 0.9484029484029484\n",
      "Validation Set: Accuracy: 0.927536231884058, F1 Score: 0.8814229249011858\n",
      "Test Set: Accuracy: 0.9256038647342996, F1 Score: 0.8768\n"
     ]
    }
   ],
   "source": [
    "y_pred = sklearn_tree.predict(X_train1)\n",
    "acc = accuracy_score(y_train1, y_pred)\n",
    "f1 = f1_score(y_train1, y_pred)\n",
    "print(f\"Train Set: Accuracy: {acc}, F1 Score: {f1}\")\n",
    "\n",
    "y_pred = sklearn_tree.predict(X_valid1)\n",
    "acc = accuracy_score(y_valid1, y_pred)\n",
    "f1 = f1_score(y_valid1, y_pred)\n",
    "print(f\"Validation Set: Accuracy: {acc}, F1 Score: {f1}\")\n",
    "\n",
    "y_pred = sklearn_tree.predict(X_test)\n",
    "acc = accuracy_score(y_test, y_pred)\n",
    "f1 = f1_score(y_test, y_pred)\n",
    "print(f\"Test Set: Accuracy: {acc}, F1 Score: {f1}\")"
   ]
  },
  {
   "cell_type": "markdown",
   "metadata": {},
   "source": [
    "Độ chính xác của tập test trên mô hình của `sklearn` là 87.7%, cao hơn một chút so với mô hình mà nhóm đưa ra. Vì vậy, có thể nói mô hình Decision Tree sử dụng ID3 của nhóm đủ tốt, nói riêng với bộ dữ liệu này. "
   ]
  }
 ],
 "metadata": {
  "kernelspec": {
   "display_name": "Python 3",
   "language": "python",
   "name": "python3"
  },
  "language_info": {
   "codemirror_mode": {
    "name": "ipython",
    "version": 3
   },
   "file_extension": ".py",
   "mimetype": "text/x-python",
   "name": "python",
   "nbconvert_exporter": "python",
   "pygments_lexer": "ipython3",
   "version": "3.11.9"
  }
 },
 "nbformat": 4,
 "nbformat_minor": 2
}
